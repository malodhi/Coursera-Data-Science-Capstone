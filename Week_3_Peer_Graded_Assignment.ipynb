{
 "cells": [
  {
   "cell_type": "code",
   "execution_count": 7,
   "metadata": {},
   "outputs": [],
   "source": [
    "from bs4 import BeautifulSoup\n",
    "import requests\n",
    "import pandas as pd\n",
    "import numpy as np\n",
    "from geopy.geocoders import Nominatim\n",
    "import folium\n",
    "from pandas.io.json import json_normalize\n",
    "from sklearn.cluster import KMeans\n",
    "import matplotlib.cm as cm\n",
    "import matplotlib.colors as colors"
   ]
  },
  {
   "cell_type": "markdown",
   "metadata": {},
   "source": [
    "### 1. Data Preperation:"
   ]
  },
  {
   "cell_type": "code",
   "execution_count": 8,
   "metadata": {},
   "outputs": [],
   "source": [
    "url = \"https://en.wikipedia.org/wiki/List_of_postal_codes_of_Canada:_M\""
   ]
  },
  {
   "cell_type": "code",
   "execution_count": 9,
   "metadata": {},
   "outputs": [],
   "source": [
    "website_text = requests.get(url).text"
   ]
  },
  {
   "cell_type": "code",
   "execution_count": 10,
   "metadata": {},
   "outputs": [],
   "source": [
    "soup  = BeautifulSoup(website_text, \"lxml\")"
   ]
  },
  {
   "cell_type": "markdown",
   "metadata": {},
   "source": [
    "##### Lets  convert table in html into dataframe:"
   ]
  },
  {
   "cell_type": "code",
   "execution_count": 11,
   "metadata": {},
   "outputs": [],
   "source": [
    "matrix = []\n",
    "table = soup.table\n",
    "headings = [heading.text.strip() for heading in table.findAll('th')]\n",
    "# print(\"headings : \\n\", headings)    \n",
    "for row in table.find_all('tr'):\n",
    "    redefined_row = [col.text.strip() for col in row.findAll('td')]\n",
    "    if redefined_row and redefined_row[2]:\n",
    "        matrix.append([redefined_row[0], redefined_row[1], redefined_row[2]])\n",
    "# print(\"We have total samples :  \" , len(matrix))"
   ]
  },
  {
   "cell_type": "code",
   "execution_count": 12,
   "metadata": {},
   "outputs": [],
   "source": [
    "df_data = pd.DataFrame(matrix,columns=[\"PostalCode\", \"Borough\", \"Neighborhood\"])"
   ]
  },
  {
   "cell_type": "markdown",
   "metadata": {},
   "source": [
    "##### Lets remove '/' from in between more than 1 neighborhood:"
   ]
  },
  {
   "cell_type": "code",
   "execution_count": 7,
   "metadata": {},
   "outputs": [],
   "source": [
    "def combine_neighborhood(df_row):\n",
    "    if '/' in df_row['Neighborhood']:\n",
    "        df_row['Neighborhood'] = \", \".join(df_row['Neighborhood'].split('/'))\n",
    "    return df_row\n",
    "df_data = df_data.apply(combine_neighborhood, axis=1)"
   ]
  },
  {
   "cell_type": "markdown",
   "metadata": {},
   "source": [
    "### 2. Lets Get Latitude & Longitude of Neighborhood:"
   ]
  },
  {
   "cell_type": "code",
   "execution_count": 8,
   "metadata": {},
   "outputs": [
    {
     "name": "stderr",
     "output_type": "stream",
     "text": [
      "/home/lodhi/DataScienceCapstone/env/lib/python3.7/site-packages/ipykernel_launcher.py:3: DeprecationWarning: Using Nominatim with the default \"geopy/1.21.0\" `user_agent` is strongly discouraged, as it violates Nominatim's ToS https://operations.osmfoundation.org/policies/nominatim/ and may possibly cause 403 and 429 HTTP errors. Please specify a custom `user_agent` with `Nominatim(user_agent=\"my-application\")` or by overriding the default `user_agent`: `geopy.geocoders.options.default_user_agent = \"my-application\"`. In geopy 2.0 this will become an exception.\n",
      "  This is separate from the ipykernel package so we can avoid doing imports until\n"
     ]
    },
    {
     "name": "stdout",
     "output_type": "stream",
     "text": [
      "The geograpical coordinate of New York City are 40.7127281, -74.0060152.\n"
     ]
    }
   ],
   "source": [
    "address = 'New York City, NY'\n",
    "\n",
    "geolocator = Nominatim()\n",
    "location = geolocator.geocode(address)\n",
    "latitude = location.latitude\n",
    "longitude = location.longitude\n",
    "print('The geograpical coordinate of New York City are {}, {}.'.format(latitude, longitude))"
   ]
  },
  {
   "cell_type": "code",
   "execution_count": 9,
   "metadata": {},
   "outputs": [],
   "source": [
    "df_coordinates = pd.read_csv(\"Geospatial_Coordinates.csv\")"
   ]
  },
  {
   "cell_type": "code",
   "execution_count": 10,
   "metadata": {},
   "outputs": [],
   "source": [
    "Latitude, Longitude = [], []\n",
    "for row in df_data.iterrows():\n",
    "    try:\n",
    "        temporary_row = df_coordinates[df_coordinates[\"Postal Code\"]==row[1][0]]\n",
    "        Latitude.append(temporary_row.iloc[0, 1])\n",
    "        Longitude.append(temporary_row.iloc[0,2])\n",
    "    except:\n",
    "        print(\"No Latitude or Longitude for Code : \" , row[1][0])\n",
    "\n",
    "df_data.insert(3, \"Latitude\", Latitude)\n",
    "df_data.insert(4, \"Longitude\",Longitude)"
   ]
  },
  {
   "cell_type": "markdown",
   "metadata": {},
   "source": [
    "#### Lets Visualize all Neighbors on Map:"
   ]
  },
  {
   "cell_type": "code",
   "execution_count": 11,
   "metadata": {},
   "outputs": [],
   "source": [
    "# create map of Manhattan using latitude and longitude values\n",
    "visual_map = folium.Map(zoom_start=11)\n",
    "\n",
    "# add markers to map\n",
    "for lat, lng, label in zip(df_data['Latitude'], df_data['Longitude'], df_data['Neighborhood']):\n",
    "    label = folium.Popup(label, parse_html=True)\n",
    "    folium.CircleMarker(\n",
    "        [lat, lng],\n",
    "        radius=5,\n",
    "        popup=label,\n",
    "        color='blue',\n",
    "        fill=True,\n",
    "        fill_color='#3186cc',\n",
    "        fill_opacity=0.7,\n",
    "        parse_html=False).add_to(visual_map)  \n",
    "    \n",
    "# visual_map"
   ]
  },
  {
   "cell_type": "markdown",
   "metadata": {},
   "source": [
    "### 3. Now lets visualize Neighborhood with \"Toronot\" in Borough:"
   ]
  },
  {
   "cell_type": "code",
   "execution_count": 12,
   "metadata": {},
   "outputs": [
    {
     "name": "stderr",
     "output_type": "stream",
     "text": [
      "/home/lodhi/DataScienceCapstone/env/lib/python3.7/site-packages/ipykernel_launcher.py:5: DeprecationWarning: The default dtype for empty Series will be 'object' instead of 'float64' in a future version. Specify a dtype explicitly to silence this warning.\n",
      "  \"\"\"\n"
     ]
    }
   ],
   "source": [
    "def check_toronto_keyword(row): \n",
    "    if \"Toronto\" in row[\"Borough\"].strip().split(\" \"): \n",
    "        return row \n",
    "    else: \n",
    "        return pd.Series()\n",
    "\n",
    "df_toronto = df_data.apply(check_toronto_keyword, axis =1).dropna().reset_index(drop=True)"
   ]
  },
  {
   "cell_type": "code",
   "execution_count": 13,
   "metadata": {},
   "outputs": [],
   "source": [
    "# create map of Manhattan using latitude and longitude values\n",
    "visual_map_toronto = folium.Map(zoom_start=11)\n",
    "\n",
    "# add markers to map\n",
    "for lat, lng, label in zip(df_toronto['Latitude'], df_toronto['Longitude'], df_toronto['Neighborhood']):\n",
    "    label = folium.Popup(label, parse_html=True)\n",
    "    folium.CircleMarker(\n",
    "        [lat, lng],\n",
    "        radius=5,\n",
    "        popup=label,\n",
    "        color='blue',\n",
    "        fill=True,\n",
    "        fill_color='#3186cc',\n",
    "        fill_opacity=0.7,\n",
    "        parse_html=False).add_to(visual_map_toronto)  \n",
    "    \n",
    "# visual_map_toronto"
   ]
  },
  {
   "cell_type": "markdown",
   "metadata": {},
   "source": [
    "### 4. Now lets get all Venues Info around Each & Every Neighborhood of Toronto:"
   ]
  },
  {
   "cell_type": "code",
   "execution_count": 14,
   "metadata": {},
   "outputs": [
    {
     "ename": "NameError",
     "evalue": "name 'df_items' is not defined",
     "output_type": "error",
     "traceback": [
      "\u001b[0;31m---------------------------------------------------------------------------\u001b[0m",
      "\u001b[0;31mNameError\u001b[0m                                 Traceback (most recent call last)",
      "\u001b[0;32m<ipython-input-14-9e1a50da4280>\u001b[0m in \u001b[0;36m<module>\u001b[0;34m\u001b[0m\n\u001b[1;32m     50\u001b[0m     \u001b[0;32mreturn\u001b[0m \u001b[0mdf\u001b[0m\u001b[0;34m\u001b[0m\u001b[0;34m\u001b[0m\u001b[0m\n\u001b[1;32m     51\u001b[0m \u001b[0;34m\u001b[0m\u001b[0m\n\u001b[0;32m---> 52\u001b[0;31m \u001b[0mdf_data\u001b[0m \u001b[0;34m=\u001b[0m \u001b[0mget_all_neighboring_venues_around_toronto\u001b[0m\u001b[0;34m(\u001b[0m\u001b[0mdf_items\u001b[0m\u001b[0;34m)\u001b[0m\u001b[0;34m\u001b[0m\u001b[0;34m\u001b[0m\u001b[0m\n\u001b[0m",
      "\u001b[0;31mNameError\u001b[0m: name 'df_items' is not defined"
     ]
    }
   ],
   "source": [
    "\n",
    "def get_all_neighboring_venues_around_toronto(df_toronto):\n",
    "    \n",
    "    CLIENT_ID = 'QVVZFBOIM23WXTHS0QNXXXQRKDR2Y0RZ1IVUKQ5SXP013CWI' \n",
    "    CLIENT_SECRET = 'AQNG4XNAKC025K3OASFTQR4WVQGP4LGFRLJ5FPNC4W1E0VEK' \n",
    "    VERSION = '20181018'\n",
    "    LIMIT = 100\n",
    "    radius = 500\n",
    "    \n",
    "    df = pd.DataFrame()\n",
    "    \n",
    "    for index, row in df_toronto.iterrows():\n",
    "#         print(\"index of row of df_toronto ===========>  \", index)\n",
    "        \n",
    "        try:\n",
    "            neighborhood_name = row['Neighborhood']\n",
    "            neighbor_latitude = row[\"Latitude\"]\n",
    "            neighbor_longitude = row[\"Longitude\"]\n",
    "\n",
    "            url = 'https://api.foursquare.com/v2/venues/explore?&client_id={}&client_secret={}&v={}&ll={},\\\n",
    "                            {}&radius={}&limit={}'.format( CLIENT_ID, CLIENT_SECRET, VERSION, \\\n",
    "                                                          neighbor_latitude, neighbor_longitude, radius, LIMIT)\n",
    "            results = requests.get(url).json()\n",
    "\n",
    "            venues = results['response']['groups'][0]['items']\n",
    "\n",
    "            df_venues = json_normalize(venues)\n",
    "\n",
    "            df_temp = pd.DataFrame(columns=['Neighborhood', 'Neighborhood Latitude', 'Neighborhood Longitude',\\\n",
    "                                           'Venue', 'Venue Category', 'Venue Latitude', 'Venue Longitude'])\n",
    "\n",
    "            for ind, r in df_venues.iterrows():\n",
    "\n",
    "                series = r[['venue.name', 'venue.categories', 'venue.location.lat', 'venue.location.lng']]\n",
    "                series[\"venue.categories\"] = series['venue.categories'][0]['name']\n",
    "                series[\"Neighborhood\"] = neighborhood_name\n",
    "                series[\"Neighborhood Latitude\"] = neighbor_latitude\n",
    "                series[\"Neighborhood Longitude\"] = neighbor_longitude\n",
    "\n",
    "                series.rename({'venue.name': 'Venue',\n",
    "                                          'venue.categories':'Venue Category',\n",
    "                                          'venue.location.lat' : 'Venue Latitude',\n",
    "                                          'venue.location.lng': 'Venue Longitude'}, inplace=True)\n",
    "\n",
    "                df_temp.loc[ind] = series\n",
    "            \n",
    "            df  = pd.concat([df, df_temp])\n",
    "        except Exception as e:\n",
    "            print(\"Exception :  \", e)\n",
    "            pass\n",
    "    return df\n",
    "\n",
    "df_data = get_all_neighboring_venues_around_toronto(df_items)"
   ]
  },
  {
   "cell_type": "code",
   "execution_count": 68,
   "metadata": {},
   "outputs": [
    {
     "data": {
      "text/plain": [
       "(39,)"
      ]
     },
     "execution_count": 68,
     "metadata": {},
     "output_type": "execute_result"
    }
   ],
   "source": [
    "df_all_venues_around_toronto.Neighborhood.unique().shape"
   ]
  },
  {
   "cell_type": "markdown",
   "metadata": {},
   "source": [
    "### 5. Lets analyse the Final Data Prepared:"
   ]
  },
  {
   "cell_type": "code",
   "execution_count": 87,
   "metadata": {},
   "outputs": [],
   "source": [
    "df_preprocessed = df_all_venues_around_toronto\n",
    "\n",
    "# lets do onehot encoding:\n",
    "df_preprocessed = pd.get_dummies(df_preprocessed[\"Venue Category\"], prefix=\"\", prefix_sep=\"\")\n",
    "\n",
    "# add neighborhood column back to dataframe\n",
    "df_preprocessed['Neighborhood'] = df_all_venues_around_toronto['Neighborhood'] \n",
    "\n",
    "# move neighborhood column to the first column\n",
    "fixed_columns = [df_preprocessed.columns[-1]] + list(df_preprocessed.columns[:-1])\n",
    "df_preprocessed = df_preprocessed[fixed_columns]\n",
    "\n",
    "df_toronto_grouped = df_preprocessed.groupby('Neighborhood').mean().reset_index()\n"
   ]
  },
  {
   "cell_type": "code",
   "execution_count": 89,
   "metadata": {},
   "outputs": [],
   "source": [
    "num_top_venues = 5\n",
    "\n",
    "for hood in df_toronto_grouped['Neighborhood']:\n",
    "#     print(\"----\"+hood+\"----\")\n",
    "    temp = df_toronto_grouped[df_toronto_grouped['Neighborhood'] == hood].T.reset_index()\n",
    "    temp.columns = ['venue','freq']\n",
    "    temp = temp.iloc[1:]\n",
    "    temp['freq'] = temp['freq'].astype(float)\n",
    "    temp = temp.round({'freq': 2})\n",
    "#     print(temp.sort_values('freq', ascending=False).reset_index(drop=True).head(num_top_venues))\n",
    "#     print('\\n')"
   ]
  },
  {
   "cell_type": "code",
   "execution_count": 90,
   "metadata": {},
   "outputs": [],
   "source": [
    "def return_most_common_venues(row, num_top_venues):\n",
    "    row_categories = row.iloc[1:]\n",
    "    row_categories_sorted = row_categories.sort_values(ascending=False)\n",
    "    \n",
    "    return row_categories_sorted.index.values[0:num_top_venues]"
   ]
  },
  {
   "cell_type": "code",
   "execution_count": 95,
   "metadata": {},
   "outputs": [],
   "source": [
    "num_top_venues = 10\n",
    "\n",
    "indicators = ['st', 'nd', 'rd']\n",
    "\n",
    "# create columns according to number of top venues\n",
    "columns = ['Neighborhood']\n",
    "for ind in np.arange(num_top_venues):\n",
    "    try:\n",
    "        columns.append('{}{} Most Common Venue'.format(ind+1, indicators[ind]))\n",
    "    except:\n",
    "        columns.append('{}th Most Common Venue'.format(ind+1))\n",
    "\n",
    "# create a new dataframe\n",
    "neighborhoods_venues_sorted = pd.DataFrame(columns=columns)\n",
    "neighborhoods_venues_sorted['Neighborhood'] = df_toronto_grouped['Neighborhood']\n",
    "\n",
    "for ind in np.arange(df_toronto_grouped.shape[0]):\n",
    "    neighborhoods_venues_sorted.iloc[ind, 1:] = return_most_common_venues(df_toronto_grouped.iloc[ind, :], num_top_venues)\n",
    "\n",
    "# neighborhoods_venues_sorted"
   ]
  },
  {
   "cell_type": "markdown",
   "metadata": {},
   "source": [
    "### 5. Clustering Neighborhood:"
   ]
  },
  {
   "cell_type": "code",
   "execution_count": 99,
   "metadata": {},
   "outputs": [
    {
     "data": {
      "text/html": [
       "<div>\n",
       "<style scoped>\n",
       "    .dataframe tbody tr th:only-of-type {\n",
       "        vertical-align: middle;\n",
       "    }\n",
       "\n",
       "    .dataframe tbody tr th {\n",
       "        vertical-align: top;\n",
       "    }\n",
       "\n",
       "    .dataframe thead th {\n",
       "        text-align: right;\n",
       "    }\n",
       "</style>\n",
       "<table border=\"1\" class=\"dataframe\">\n",
       "  <thead>\n",
       "    <tr style=\"text-align: right;\">\n",
       "      <th></th>\n",
       "      <th>Borough</th>\n",
       "      <th>Latitude</th>\n",
       "      <th>Longitude</th>\n",
       "      <th>Neighborhood</th>\n",
       "      <th>PostalCode</th>\n",
       "      <th>Cluster Labels</th>\n",
       "      <th>1st Most Common Venue</th>\n",
       "      <th>2nd Most Common Venue</th>\n",
       "      <th>3rd Most Common Venue</th>\n",
       "      <th>4th Most Common Venue</th>\n",
       "      <th>5th Most Common Venue</th>\n",
       "      <th>6th Most Common Venue</th>\n",
       "      <th>7th Most Common Venue</th>\n",
       "      <th>8th Most Common Venue</th>\n",
       "      <th>9th Most Common Venue</th>\n",
       "      <th>10th Most Common Venue</th>\n",
       "    </tr>\n",
       "  </thead>\n",
       "  <tbody>\n",
       "    <tr>\n",
       "      <th>0</th>\n",
       "      <td>Downtown Toronto</td>\n",
       "      <td>43.654260</td>\n",
       "      <td>-79.360636</td>\n",
       "      <td>Regent Park ,  Harbourfront</td>\n",
       "      <td>M5A</td>\n",
       "      <td>4</td>\n",
       "      <td>Coffee Shop</td>\n",
       "      <td>Pub</td>\n",
       "      <td>Park</td>\n",
       "      <td>Bakery</td>\n",
       "      <td>Breakfast Spot</td>\n",
       "      <td>Theater</td>\n",
       "      <td>Café</td>\n",
       "      <td>Mexican Restaurant</td>\n",
       "      <td>Restaurant</td>\n",
       "      <td>Distribution Center</td>\n",
       "    </tr>\n",
       "    <tr>\n",
       "      <th>1</th>\n",
       "      <td>Downtown Toronto</td>\n",
       "      <td>43.662301</td>\n",
       "      <td>-79.389494</td>\n",
       "      <td>Queen's Park ,  Ontario Provincial Government</td>\n",
       "      <td>M7A</td>\n",
       "      <td>0</td>\n",
       "      <td>Coffee Shop</td>\n",
       "      <td>Diner</td>\n",
       "      <td>Creperie</td>\n",
       "      <td>Beer Bar</td>\n",
       "      <td>Boutique</td>\n",
       "      <td>Sandwich Place</td>\n",
       "      <td>Burger Joint</td>\n",
       "      <td>Burrito Place</td>\n",
       "      <td>Café</td>\n",
       "      <td>Park</td>\n",
       "    </tr>\n",
       "    <tr>\n",
       "      <th>2</th>\n",
       "      <td>Downtown Toronto</td>\n",
       "      <td>43.657162</td>\n",
       "      <td>-79.378937</td>\n",
       "      <td>Garden District, Ryerson</td>\n",
       "      <td>M5B</td>\n",
       "      <td>4</td>\n",
       "      <td>Clothing Store</td>\n",
       "      <td>Coffee Shop</td>\n",
       "      <td>Cosmetics Shop</td>\n",
       "      <td>Café</td>\n",
       "      <td>Middle Eastern Restaurant</td>\n",
       "      <td>Japanese Restaurant</td>\n",
       "      <td>Bubble Tea Shop</td>\n",
       "      <td>Theater</td>\n",
       "      <td>Bookstore</td>\n",
       "      <td>Diner</td>\n",
       "    </tr>\n",
       "    <tr>\n",
       "      <th>3</th>\n",
       "      <td>Downtown Toronto</td>\n",
       "      <td>43.651494</td>\n",
       "      <td>-79.375418</td>\n",
       "      <td>St. James Town</td>\n",
       "      <td>M5C</td>\n",
       "      <td>4</td>\n",
       "      <td>Coffee Shop</td>\n",
       "      <td>Café</td>\n",
       "      <td>Italian Restaurant</td>\n",
       "      <td>Restaurant</td>\n",
       "      <td>Cocktail Bar</td>\n",
       "      <td>Clothing Store</td>\n",
       "      <td>Gastropub</td>\n",
       "      <td>Bakery</td>\n",
       "      <td>Beer Bar</td>\n",
       "      <td>Diner</td>\n",
       "    </tr>\n",
       "    <tr>\n",
       "      <th>4</th>\n",
       "      <td>East Toronto</td>\n",
       "      <td>43.676357</td>\n",
       "      <td>-79.293031</td>\n",
       "      <td>The Beaches</td>\n",
       "      <td>M4E</td>\n",
       "      <td>4</td>\n",
       "      <td>Coffee Shop</td>\n",
       "      <td>Trail</td>\n",
       "      <td>Health Food Store</td>\n",
       "      <td>Pub</td>\n",
       "      <td>Deli / Bodega</td>\n",
       "      <td>Electronics Store</td>\n",
       "      <td>Eastern European Restaurant</td>\n",
       "      <td>Dumpling Restaurant</td>\n",
       "      <td>Donut Shop</td>\n",
       "      <td>Doner Restaurant</td>\n",
       "    </tr>\n",
       "  </tbody>\n",
       "</table>\n",
       "</div>"
      ],
      "text/plain": [
       "            Borough   Latitude  Longitude  \\\n",
       "0  Downtown Toronto  43.654260 -79.360636   \n",
       "1  Downtown Toronto  43.662301 -79.389494   \n",
       "2  Downtown Toronto  43.657162 -79.378937   \n",
       "3  Downtown Toronto  43.651494 -79.375418   \n",
       "4      East Toronto  43.676357 -79.293031   \n",
       "\n",
       "                                    Neighborhood PostalCode  Cluster Labels  \\\n",
       "0                    Regent Park ,  Harbourfront        M5A               4   \n",
       "1  Queen's Park ,  Ontario Provincial Government        M7A               0   \n",
       "2                       Garden District, Ryerson        M5B               4   \n",
       "3                                 St. James Town        M5C               4   \n",
       "4                                    The Beaches        M4E               4   \n",
       "\n",
       "  1st Most Common Venue 2nd Most Common Venue 3rd Most Common Venue  \\\n",
       "0           Coffee Shop                   Pub                  Park   \n",
       "1           Coffee Shop                 Diner              Creperie   \n",
       "2        Clothing Store           Coffee Shop        Cosmetics Shop   \n",
       "3           Coffee Shop                  Café    Italian Restaurant   \n",
       "4           Coffee Shop                 Trail     Health Food Store   \n",
       "\n",
       "  4th Most Common Venue      5th Most Common Venue 6th Most Common Venue  \\\n",
       "0                Bakery             Breakfast Spot               Theater   \n",
       "1              Beer Bar                   Boutique        Sandwich Place   \n",
       "2                  Café  Middle Eastern Restaurant   Japanese Restaurant   \n",
       "3            Restaurant               Cocktail Bar        Clothing Store   \n",
       "4                   Pub              Deli / Bodega     Electronics Store   \n",
       "\n",
       "         7th Most Common Venue 8th Most Common Venue 9th Most Common Venue  \\\n",
       "0                         Café    Mexican Restaurant            Restaurant   \n",
       "1                 Burger Joint         Burrito Place                  Café   \n",
       "2              Bubble Tea Shop               Theater             Bookstore   \n",
       "3                    Gastropub                Bakery              Beer Bar   \n",
       "4  Eastern European Restaurant   Dumpling Restaurant            Donut Shop   \n",
       "\n",
       "  10th Most Common Venue  \n",
       "0    Distribution Center  \n",
       "1                   Park  \n",
       "2                  Diner  \n",
       "3                  Diner  \n",
       "4       Doner Restaurant  "
      ]
     },
     "execution_count": 99,
     "metadata": {},
     "output_type": "execute_result"
    }
   ],
   "source": [
    "# set number of clusters\n",
    "kclusters = 5\n",
    "\n",
    "toronto_grouped_clustering = df_toronto_grouped.drop('Neighborhood', 1)\n",
    "\n",
    "# run k-means clustering\n",
    "kmeans = KMeans(n_clusters=kclusters, random_state=0).fit(toronto_grouped_clustering)\n",
    "\n",
    "# check cluster labels generated for each row in the dataframe\n",
    "kmeans.labels_[0:10] \n",
    "\n",
    "df_toronto_merged = df_toronto\n",
    "\n",
    "# add clustering labels\n",
    "df_toronto_merged['Cluster Labels'] = kmeans.labels_\n",
    "\n",
    "# merge toronto_grouped with toronto_data to add latitude/longitude for each neighborhood\n",
    "df_toronto_merged = df_toronto_merged.join(neighborhoods_venues_sorted.set_index('Neighborhood'), on='Neighborhood')\n",
    "\n",
    "df_toronto_merged.head() # check the last columns!"
   ]
  },
  {
   "cell_type": "code",
   "execution_count": 106,
   "metadata": {},
   "outputs": [
    {
     "data": {
      "text/html": [
       "<div style=\"width:100%;\"><div style=\"position:relative;width:100%;height:0;padding-bottom:60%;\"><iframe src=\"about:blank\" style=\"position:absolute;width:100%;height:100%;left:0;top:0;border:none !important;\" data-html=PCFET0NUWVBFIGh0bWw+CjxoZWFkPiAgICAKICAgIDxtZXRhIGh0dHAtZXF1aXY9ImNvbnRlbnQtdHlwZSIgY29udGVudD0idGV4dC9odG1sOyBjaGFyc2V0PVVURi04IiAvPgogICAgPHNjcmlwdD5MX1BSRUZFUl9DQU5WQVMgPSBmYWxzZTsgTF9OT19UT1VDSCA9IGZhbHNlOyBMX0RJU0FCTEVfM0QgPSBmYWxzZTs8L3NjcmlwdD4KICAgIDxzY3JpcHQgc3JjPSJodHRwczovL2Nkbi5qc2RlbGl2ci5uZXQvbnBtL2xlYWZsZXRAMS4yLjAvZGlzdC9sZWFmbGV0LmpzIj48L3NjcmlwdD4KICAgIDxzY3JpcHQgc3JjPSJodHRwczovL2FqYXguZ29vZ2xlYXBpcy5jb20vYWpheC9saWJzL2pxdWVyeS8xLjExLjEvanF1ZXJ5Lm1pbi5qcyI+PC9zY3JpcHQ+CiAgICA8c2NyaXB0IHNyYz0iaHR0cHM6Ly9tYXhjZG4uYm9vdHN0cmFwY2RuLmNvbS9ib290c3RyYXAvMy4yLjAvanMvYm9vdHN0cmFwLm1pbi5qcyI+PC9zY3JpcHQ+CiAgICA8c2NyaXB0IHNyYz0iaHR0cHM6Ly9jZG5qcy5jbG91ZGZsYXJlLmNvbS9hamF4L2xpYnMvTGVhZmxldC5hd2Vzb21lLW1hcmtlcnMvMi4wLjIvbGVhZmxldC5hd2Vzb21lLW1hcmtlcnMuanMiPjwvc2NyaXB0PgogICAgPGxpbmsgcmVsPSJzdHlsZXNoZWV0IiBocmVmPSJodHRwczovL2Nkbi5qc2RlbGl2ci5uZXQvbnBtL2xlYWZsZXRAMS4yLjAvZGlzdC9sZWFmbGV0LmNzcyIvPgogICAgPGxpbmsgcmVsPSJzdHlsZXNoZWV0IiBocmVmPSJodHRwczovL21heGNkbi5ib290c3RyYXBjZG4uY29tL2Jvb3RzdHJhcC8zLjIuMC9jc3MvYm9vdHN0cmFwLm1pbi5jc3MiLz4KICAgIDxsaW5rIHJlbD0ic3R5bGVzaGVldCIgaHJlZj0iaHR0cHM6Ly9tYXhjZG4uYm9vdHN0cmFwY2RuLmNvbS9ib290c3RyYXAvMy4yLjAvY3NzL2Jvb3RzdHJhcC10aGVtZS5taW4uY3NzIi8+CiAgICA8bGluayByZWw9InN0eWxlc2hlZXQiIGhyZWY9Imh0dHBzOi8vbWF4Y2RuLmJvb3RzdHJhcGNkbi5jb20vZm9udC1hd2Vzb21lLzQuNi4zL2Nzcy9mb250LWF3ZXNvbWUubWluLmNzcyIvPgogICAgPGxpbmsgcmVsPSJzdHlsZXNoZWV0IiBocmVmPSJodHRwczovL2NkbmpzLmNsb3VkZmxhcmUuY29tL2FqYXgvbGlicy9MZWFmbGV0LmF3ZXNvbWUtbWFya2Vycy8yLjAuMi9sZWFmbGV0LmF3ZXNvbWUtbWFya2Vycy5jc3MiLz4KICAgIDxsaW5rIHJlbD0ic3R5bGVzaGVldCIgaHJlZj0iaHR0cHM6Ly9yYXdnaXQuY29tL3B5dGhvbi12aXN1YWxpemF0aW9uL2ZvbGl1bS9tYXN0ZXIvZm9saXVtL3RlbXBsYXRlcy9sZWFmbGV0LmF3ZXNvbWUucm90YXRlLmNzcyIvPgogICAgPHN0eWxlPmh0bWwsIGJvZHkge3dpZHRoOiAxMDAlO2hlaWdodDogMTAwJTttYXJnaW46IDA7cGFkZGluZzogMDt9PC9zdHlsZT4KICAgIDxzdHlsZT4jbWFwIHtwb3NpdGlvbjphYnNvbHV0ZTt0b3A6MDtib3R0b206MDtyaWdodDowO2xlZnQ6MDt9PC9zdHlsZT4KICAgIAogICAgICAgICAgICA8c3R5bGU+ICNtYXBfMDUzODdlN2I1ZjY2NGM3ZGI2YWY0Y2U1MDE3Yjc5MjQgewogICAgICAgICAgICAgICAgcG9zaXRpb24gOiByZWxhdGl2ZTsKICAgICAgICAgICAgICAgIHdpZHRoIDogMTAwLjAlOwogICAgICAgICAgICAgICAgaGVpZ2h0OiAxMDAuMCU7CiAgICAgICAgICAgICAgICBsZWZ0OiAwLjAlOwogICAgICAgICAgICAgICAgdG9wOiAwLjAlOwogICAgICAgICAgICAgICAgfQogICAgICAgICAgICA8L3N0eWxlPgogICAgICAgIAo8L2hlYWQ+Cjxib2R5PiAgICAKICAgIAogICAgICAgICAgICA8ZGl2IGNsYXNzPSJmb2xpdW0tbWFwIiBpZD0ibWFwXzA1Mzg3ZTdiNWY2NjRjN2RiNmFmNGNlNTAxN2I3OTI0IiA+PC9kaXY+CiAgICAgICAgCjwvYm9keT4KPHNjcmlwdD4gICAgCiAgICAKCiAgICAgICAgICAgIAogICAgICAgICAgICAgICAgdmFyIGJvdW5kcyA9IG51bGw7CiAgICAgICAgICAgIAoKICAgICAgICAgICAgdmFyIG1hcF8wNTM4N2U3YjVmNjY0YzdkYjZhZjRjZTUwMTdiNzkyNCA9IEwubWFwKAogICAgICAgICAgICAgICAgICAgICAgICAgICAgICAgICAgJ21hcF8wNTM4N2U3YjVmNjY0YzdkYjZhZjRjZTUwMTdiNzkyNCcsCiAgICAgICAgICAgICAgICAgICAgICAgICAgICAgICAgICB7Y2VudGVyOiBbMCwwXSwKICAgICAgICAgICAgICAgICAgICAgICAgICAgICAgICAgIHpvb206IDEsCiAgICAgICAgICAgICAgICAgICAgICAgICAgICAgICAgICBtYXhCb3VuZHM6IGJvdW5kcywKICAgICAgICAgICAgICAgICAgICAgICAgICAgICAgICAgIGxheWVyczogW10sCiAgICAgICAgICAgICAgICAgICAgICAgICAgICAgICAgICB3b3JsZENvcHlKdW1wOiBmYWxzZSwKICAgICAgICAgICAgICAgICAgICAgICAgICAgICAgICAgIGNyczogTC5DUlMuRVBTRzM4NTcKICAgICAgICAgICAgICAgICAgICAgICAgICAgICAgICAgfSk7CiAgICAgICAgICAgIAogICAgICAgIAogICAgCiAgICAgICAgICAgIHZhciB0aWxlX2xheWVyX2E1ZjI4MTIzZTE0NzQ2ZGFiODM0MTZkYWZkNzE5NGIzID0gTC50aWxlTGF5ZXIoCiAgICAgICAgICAgICAgICAnaHR0cHM6Ly97c30udGlsZS5vcGVuc3RyZWV0bWFwLm9yZy97en0ve3h9L3t5fS5wbmcnLAogICAgICAgICAgICAgICAgewogICJhdHRyaWJ1dGlvbiI6IG51bGwsCiAgImRldGVjdFJldGluYSI6IGZhbHNlLAogICJtYXhab29tIjogMTgsCiAgIm1pblpvb20iOiAxLAogICJub1dyYXAiOiBmYWxzZSwKICAic3ViZG9tYWlucyI6ICJhYmMiCn0KICAgICAgICAgICAgICAgICkuYWRkVG8obWFwXzA1Mzg3ZTdiNWY2NjRjN2RiNmFmNGNlNTAxN2I3OTI0KTsKICAgICAgICAKICAgIAogICAgICAgICAgICB2YXIgY2lyY2xlX21hcmtlcl9iZWE3N2UxZjUyZjQ0MzVjYmFiODliMTEyNjg3NzU2NSA9IEwuY2lyY2xlTWFya2VyKAogICAgICAgICAgICAgICAgWzQzLjY1NDI1OTksLTc5LjM2MDYzNTldLAogICAgICAgICAgICAgICAgewogICJidWJibGluZ01vdXNlRXZlbnRzIjogdHJ1ZSwKICAiY29sb3IiOiAiI2ZmYjM2MCIsCiAgImRhc2hBcnJheSI6IG51bGwsCiAgImRhc2hPZmZzZXQiOiBudWxsLAogICJmaWxsIjogdHJ1ZSwKICAiZmlsbENvbG9yIjogIiNmZmIzNjAiLAogICJmaWxsT3BhY2l0eSI6IDAuNywKICAiZmlsbFJ1bGUiOiAiZXZlbm9kZCIsCiAgImxpbmVDYXAiOiAicm91bmQiLAogICJsaW5lSm9pbiI6ICJyb3VuZCIsCiAgIm9wYWNpdHkiOiAxLjAsCiAgInJhZGl1cyI6IDUsCiAgInN0cm9rZSI6IHRydWUsCiAgIndlaWdodCI6IDMKfQogICAgICAgICAgICAgICAgKS5hZGRUbyhtYXBfMDUzODdlN2I1ZjY2NGM3ZGI2YWY0Y2U1MDE3Yjc5MjQpOwogICAgICAgICAgICAKICAgIAogICAgICAgICAgICB2YXIgcG9wdXBfZDFiYTExNzZhYzg5NDY2MDg1OTUwYTRiM2U5ZjI1MmYgPSBMLnBvcHVwKHttYXhXaWR0aDogJzMwMCd9KTsKCiAgICAgICAgICAgIAogICAgICAgICAgICAgICAgdmFyIGh0bWxfM2IyY2FmMmMzMWE1NGZlNGI0ZDQ4YjA0NjVjMGM1MDMgPSAkKCc8ZGl2IGlkPSJodG1sXzNiMmNhZjJjMzFhNTRmZTRiNGQ0OGIwNDY1YzBjNTAzIiBzdHlsZT0id2lkdGg6IDEwMC4wJTsgaGVpZ2h0OiAxMDAuMCU7Ij5SZWdlbnQgUGFyayAsICBIYXJib3VyZnJvbnQgQ2x1c3RlciA0PC9kaXY+JylbMF07CiAgICAgICAgICAgICAgICBwb3B1cF9kMWJhMTE3NmFjODk0NjYwODU5NTBhNGIzZTlmMjUyZi5zZXRDb250ZW50KGh0bWxfM2IyY2FmMmMzMWE1NGZlNGI0ZDQ4YjA0NjVjMGM1MDMpOwogICAgICAgICAgICAKCiAgICAgICAgICAgIGNpcmNsZV9tYXJrZXJfYmVhNzdlMWY1MmY0NDM1Y2JhYjg5YjExMjY4Nzc1NjUuYmluZFBvcHVwKHBvcHVwX2QxYmExMTc2YWM4OTQ2NjA4NTk1MGE0YjNlOWYyNTJmKTsKCiAgICAgICAgICAgIAogICAgICAgIAogICAgCiAgICAgICAgICAgIHZhciBjaXJjbGVfbWFya2VyXzVlZTg1Mjg1NzdhNzRhNTk5NzgzYjJlN2M0NGZlZGY2ID0gTC5jaXJjbGVNYXJrZXIoCiAgICAgICAgICAgICAgICBbNDMuNjYyMzAxNSwtNzkuMzg5NDkzOF0sCiAgICAgICAgICAgICAgICB7CiAgImJ1YmJsaW5nTW91c2VFdmVudHMiOiB0cnVlLAogICJjb2xvciI6ICIjZmYwMDAwIiwKICAiZGFzaEFycmF5IjogbnVsbCwKICAiZGFzaE9mZnNldCI6IG51bGwsCiAgImZpbGwiOiB0cnVlLAogICJmaWxsQ29sb3IiOiAiI2ZmMDAwMCIsCiAgImZpbGxPcGFjaXR5IjogMC43LAogICJmaWxsUnVsZSI6ICJldmVub2RkIiwKICAibGluZUNhcCI6ICJyb3VuZCIsCiAgImxpbmVKb2luIjogInJvdW5kIiwKICAib3BhY2l0eSI6IDEuMCwKICAicmFkaXVzIjogNSwKICAic3Ryb2tlIjogdHJ1ZSwKICAid2VpZ2h0IjogMwp9CiAgICAgICAgICAgICAgICApLmFkZFRvKG1hcF8wNTM4N2U3YjVmNjY0YzdkYjZhZjRjZTUwMTdiNzkyNCk7CiAgICAgICAgICAgIAogICAgCiAgICAgICAgICAgIHZhciBwb3B1cF8wOTM1ODRiYWZhZWE0OWU1YTU1ZmMxZmJkZjRlOWMzZCA9IEwucG9wdXAoe21heFdpZHRoOiAnMzAwJ30pOwoKICAgICAgICAgICAgCiAgICAgICAgICAgICAgICB2YXIgaHRtbF83OTUxYzgwYTQyZDc0MDQ0OWRmMjg4MmNjMzc4NTMyMiA9ICQoJzxkaXYgaWQ9Imh0bWxfNzk1MWM4MGE0MmQ3NDA0NDlkZjI4ODJjYzM3ODUzMjIiIHN0eWxlPSJ3aWR0aDogMTAwLjAlOyBoZWlnaHQ6IDEwMC4wJTsiPlF1ZWVuJiMzOTtzIFBhcmsgLCAgT250YXJpbyBQcm92aW5jaWFsIEdvdmVybm1lbnQgQ2x1c3RlciAwPC9kaXY+JylbMF07CiAgICAgICAgICAgICAgICBwb3B1cF8wOTM1ODRiYWZhZWE0OWU1YTU1ZmMxZmJkZjRlOWMzZC5zZXRDb250ZW50KGh0bWxfNzk1MWM4MGE0MmQ3NDA0NDlkZjI4ODJjYzM3ODUzMjIpOwogICAgICAgICAgICAKCiAgICAgICAgICAgIGNpcmNsZV9tYXJrZXJfNWVlODUyODU3N2E3NGE1OTk3ODNiMmU3YzQ0ZmVkZjYuYmluZFBvcHVwKHBvcHVwXzA5MzU4NGJhZmFlYTQ5ZTVhNTVmYzFmYmRmNGU5YzNkKTsKCiAgICAgICAgICAgIAogICAgICAgIAogICAgCiAgICAgICAgICAgIHZhciBjaXJjbGVfbWFya2VyXzg1MjIzNTBiMjRiMjQ4ZGU5MjM0OGNiOTFmZDNkNzIwID0gTC5jaXJjbGVNYXJrZXIoCiAgICAgICAgICAgICAgICBbNDMuNjU3MTYxOCwtNzkuMzc4OTM3MDk5OTk5OTldLAogICAgICAgICAgICAgICAgewogICJidWJibGluZ01vdXNlRXZlbnRzIjogdHJ1ZSwKICAiY29sb3IiOiAiI2ZmYjM2MCIsCiAgImRhc2hBcnJheSI6IG51bGwsCiAgImRhc2hPZmZzZXQiOiBudWxsLAogICJmaWxsIjogdHJ1ZSwKICAiZmlsbENvbG9yIjogIiNmZmIzNjAiLAogICJmaWxsT3BhY2l0eSI6IDAuNywKICAiZmlsbFJ1bGUiOiAiZXZlbm9kZCIsCiAgImxpbmVDYXAiOiAicm91bmQiLAogICJsaW5lSm9pbiI6ICJyb3VuZCIsCiAgIm9wYWNpdHkiOiAxLjAsCiAgInJhZGl1cyI6IDUsCiAgInN0cm9rZSI6IHRydWUsCiAgIndlaWdodCI6IDMKfQogICAgICAgICAgICAgICAgKS5hZGRUbyhtYXBfMDUzODdlN2I1ZjY2NGM3ZGI2YWY0Y2U1MDE3Yjc5MjQpOwogICAgICAgICAgICAKICAgIAogICAgICAgICAgICB2YXIgcG9wdXBfMTViOGIxYzU5NDNkNGJmNzk2ZDIzOTJmYzU3MDcyMTAgPSBMLnBvcHVwKHttYXhXaWR0aDogJzMwMCd9KTsKCiAgICAgICAgICAgIAogICAgICAgICAgICAgICAgdmFyIGh0bWxfYWE3ZjJlOWZkYjhlNGU3NmJjYjg2MGViYjM4ZGM1YTUgPSAkKCc8ZGl2IGlkPSJodG1sX2FhN2YyZTlmZGI4ZTRlNzZiY2I4NjBlYmIzOGRjNWE1IiBzdHlsZT0id2lkdGg6IDEwMC4wJTsgaGVpZ2h0OiAxMDAuMCU7Ij5HYXJkZW4gRGlzdHJpY3QsIFJ5ZXJzb24gQ2x1c3RlciA0PC9kaXY+JylbMF07CiAgICAgICAgICAgICAgICBwb3B1cF8xNWI4YjFjNTk0M2Q0YmY3OTZkMjM5MmZjNTcwNzIxMC5zZXRDb250ZW50KGh0bWxfYWE3ZjJlOWZkYjhlNGU3NmJjYjg2MGViYjM4ZGM1YTUpOwogICAgICAgICAgICAKCiAgICAgICAgICAgIGNpcmNsZV9tYXJrZXJfODUyMjM1MGIyNGIyNDhkZTkyMzQ4Y2I5MWZkM2Q3MjAuYmluZFBvcHVwKHBvcHVwXzE1YjhiMWM1OTQzZDRiZjc5NmQyMzkyZmM1NzA3MjEwKTsKCiAgICAgICAgICAgIAogICAgICAgIAogICAgCiAgICAgICAgICAgIHZhciBjaXJjbGVfbWFya2VyX2U4NzBkNTVjYThkNTQzM2Q5ZTQ4MjM2N2RmZDRhNWVhID0gTC5jaXJjbGVNYXJrZXIoCiAgICAgICAgICAgICAgICBbNDMuNjUxNDkzOSwtNzkuMzc1NDE3OV0sCiAgICAgICAgICAgICAgICB7CiAgImJ1YmJsaW5nTW91c2VFdmVudHMiOiB0cnVlLAogICJjb2xvciI6ICIjZmZiMzYwIiwKICAiZGFzaEFycmF5IjogbnVsbCwKICAiZGFzaE9mZnNldCI6IG51bGwsCiAgImZpbGwiOiB0cnVlLAogICJmaWxsQ29sb3IiOiAiI2ZmYjM2MCIsCiAgImZpbGxPcGFjaXR5IjogMC43LAogICJmaWxsUnVsZSI6ICJldmVub2RkIiwKICAibGluZUNhcCI6ICJyb3VuZCIsCiAgImxpbmVKb2luIjogInJvdW5kIiwKICAib3BhY2l0eSI6IDEuMCwKICAicmFkaXVzIjogNSwKICAic3Ryb2tlIjogdHJ1ZSwKICAid2VpZ2h0IjogMwp9CiAgICAgICAgICAgICAgICApLmFkZFRvKG1hcF8wNTM4N2U3YjVmNjY0YzdkYjZhZjRjZTUwMTdiNzkyNCk7CiAgICAgICAgICAgIAogICAgCiAgICAgICAgICAgIHZhciBwb3B1cF9mMzBmYjkwNjdhNDY0ZmE1OGQ5YTE1MDA3Yjg1OTc0NyA9IEwucG9wdXAoe21heFdpZHRoOiAnMzAwJ30pOwoKICAgICAgICAgICAgCiAgICAgICAgICAgICAgICB2YXIgaHRtbF9lOTgxNTY5MTAwOTc0N2NiODE0OTQ0N2FjMmU5NjM3MSA9ICQoJzxkaXYgaWQ9Imh0bWxfZTk4MTU2OTEwMDk3NDdjYjgxNDk0NDdhYzJlOTYzNzEiIHN0eWxlPSJ3aWR0aDogMTAwLjAlOyBoZWlnaHQ6IDEwMC4wJTsiPlN0LiBKYW1lcyBUb3duIENsdXN0ZXIgNDwvZGl2PicpWzBdOwogICAgICAgICAgICAgICAgcG9wdXBfZjMwZmI5MDY3YTQ2NGZhNThkOWExNTAwN2I4NTk3NDcuc2V0Q29udGVudChodG1sX2U5ODE1NjkxMDA5NzQ3Y2I4MTQ5NDQ3YWMyZTk2MzcxKTsKICAgICAgICAgICAgCgogICAgICAgICAgICBjaXJjbGVfbWFya2VyX2U4NzBkNTVjYThkNTQzM2Q5ZTQ4MjM2N2RmZDRhNWVhLmJpbmRQb3B1cChwb3B1cF9mMzBmYjkwNjdhNDY0ZmE1OGQ5YTE1MDA3Yjg1OTc0Nyk7CgogICAgICAgICAgICAKICAgICAgICAKICAgIAogICAgICAgICAgICB2YXIgY2lyY2xlX21hcmtlcl9lNDI2ZDE0OTI1MDk0MTA3ODVmODE0MjNjZjJlNGM0YiA9IEwuY2lyY2xlTWFya2VyKAogICAgICAgICAgICAgICAgWzQzLjY3NjM1NzM5OTk5OTk5LC03OS4yOTMwMzEyXSwKICAgICAgICAgICAgICAgIHsKICAiYnViYmxpbmdNb3VzZUV2ZW50cyI6IHRydWUsCiAgImNvbG9yIjogIiNmZmIzNjAiLAogICJkYXNoQXJyYXkiOiBudWxsLAogICJkYXNoT2Zmc2V0IjogbnVsbCwKICAiZmlsbCI6IHRydWUsCiAgImZpbGxDb2xvciI6ICIjZmZiMzYwIiwKICAiZmlsbE9wYWNpdHkiOiAwLjcsCiAgImZpbGxSdWxlIjogImV2ZW5vZGQiLAogICJsaW5lQ2FwIjogInJvdW5kIiwKICAibGluZUpvaW4iOiAicm91bmQiLAogICJvcGFjaXR5IjogMS4wLAogICJyYWRpdXMiOiA1LAogICJzdHJva2UiOiB0cnVlLAogICJ3ZWlnaHQiOiAzCn0KICAgICAgICAgICAgICAgICkuYWRkVG8obWFwXzA1Mzg3ZTdiNWY2NjRjN2RiNmFmNGNlNTAxN2I3OTI0KTsKICAgICAgICAgICAgCiAgICAKICAgICAgICAgICAgdmFyIHBvcHVwX2FkYTE2YWE5ZjQ4YTQwNGQ5MjRiZDY3Yzc1ZDJiN2RjID0gTC5wb3B1cCh7bWF4V2lkdGg6ICczMDAnfSk7CgogICAgICAgICAgICAKICAgICAgICAgICAgICAgIHZhciBodG1sX2NhOGM2ZGYyNWI5ZDQ2NGU4MWMyMjg0YmUzNmE4NmE2ID0gJCgnPGRpdiBpZD0iaHRtbF9jYThjNmRmMjViOWQ0NjRlODFjMjI4NGJlMzZhODZhNiIgc3R5bGU9IndpZHRoOiAxMDAuMCU7IGhlaWdodDogMTAwLjAlOyI+VGhlIEJlYWNoZXMgQ2x1c3RlciA0PC9kaXY+JylbMF07CiAgICAgICAgICAgICAgICBwb3B1cF9hZGExNmFhOWY0OGE0MDRkOTI0YmQ2N2M3NWQyYjdkYy5zZXRDb250ZW50KGh0bWxfY2E4YzZkZjI1YjlkNDY0ZTgxYzIyODRiZTM2YTg2YTYpOwogICAgICAgICAgICAKCiAgICAgICAgICAgIGNpcmNsZV9tYXJrZXJfZTQyNmQxNDkyNTA5NDEwNzg1ZjgxNDIzY2YyZTRjNGIuYmluZFBvcHVwKHBvcHVwX2FkYTE2YWE5ZjQ4YTQwNGQ5MjRiZDY3Yzc1ZDJiN2RjKTsKCiAgICAgICAgICAgIAogICAgICAgIAogICAgCiAgICAgICAgICAgIHZhciBjaXJjbGVfbWFya2VyXzUxMWI0YzEzNDE5ZjQ5OTU5NWY4OWQyYzk4OGEyNTI3ID0gTC5jaXJjbGVNYXJrZXIoCiAgICAgICAgICAgICAgICBbNDMuNjQ0NzcwNzk5OTk5OTk2LC03OS4zNzMzMDY0XSwKICAgICAgICAgICAgICAgIHsKICAiYnViYmxpbmdNb3VzZUV2ZW50cyI6IHRydWUsCiAgImNvbG9yIjogIiNmZjAwMDAiLAogICJkYXNoQXJyYXkiOiBudWxsLAogICJkYXNoT2Zmc2V0IjogbnVsbCwKICAiZmlsbCI6IHRydWUsCiAgImZpbGxDb2xvciI6ICIjZmYwMDAwIiwKICAiZmlsbE9wYWNpdHkiOiAwLjcsCiAgImZpbGxSdWxlIjogImV2ZW5vZGQiLAogICJsaW5lQ2FwIjogInJvdW5kIiwKICAibGluZUpvaW4iOiAicm91bmQiLAogICJvcGFjaXR5IjogMS4wLAogICJyYWRpdXMiOiA1LAogICJzdHJva2UiOiB0cnVlLAogICJ3ZWlnaHQiOiAzCn0KICAgICAgICAgICAgICAgICkuYWRkVG8obWFwXzA1Mzg3ZTdiNWY2NjRjN2RiNmFmNGNlNTAxN2I3OTI0KTsKICAgICAgICAgICAgCiAgICAKICAgICAgICAgICAgdmFyIHBvcHVwX2NlYmQ3MTUwM2QwZTRiZjg4MzgzOTU0NDQxM2RmOTE2ID0gTC5wb3B1cCh7bWF4V2lkdGg6ICczMDAnfSk7CgogICAgICAgICAgICAKICAgICAgICAgICAgICAgIHZhciBodG1sXzAyOWNlYWI5YjIyOTQ3ZGQ5NmI5M2JlYzA2ZTdmNTRhID0gJCgnPGRpdiBpZD0iaHRtbF8wMjljZWFiOWIyMjk0N2RkOTZiOTNiZWMwNmU3ZjU0YSIgc3R5bGU9IndpZHRoOiAxMDAuMCU7IGhlaWdodDogMTAwLjAlOyI+QmVyY3p5IFBhcmsgQ2x1c3RlciAwPC9kaXY+JylbMF07CiAgICAgICAgICAgICAgICBwb3B1cF9jZWJkNzE1MDNkMGU0YmY4ODM4Mzk1NDQ0MTNkZjkxNi5zZXRDb250ZW50KGh0bWxfMDI5Y2VhYjliMjI5NDdkZDk2YjkzYmVjMDZlN2Y1NGEpOwogICAgICAgICAgICAKCiAgICAgICAgICAgIGNpcmNsZV9tYXJrZXJfNTExYjRjMTM0MTlmNDk5NTk1Zjg5ZDJjOTg4YTI1MjcuYmluZFBvcHVwKHBvcHVwX2NlYmQ3MTUwM2QwZTRiZjg4MzgzOTU0NDQxM2RmOTE2KTsKCiAgICAgICAgICAgIAogICAgICAgIAogICAgCiAgICAgICAgICAgIHZhciBjaXJjbGVfbWFya2VyXzY2ZjRiOTA4MTMxNTQ1NDQ4MGU4NDU1NzYwNmE1ODg2ID0gTC5jaXJjbGVNYXJrZXIoCiAgICAgICAgICAgICAgICBbNDMuNjU3OTUyNCwtNzkuMzg3MzgyNl0sCiAgICAgICAgICAgICAgICB7CiAgImJ1YmJsaW5nTW91c2VFdmVudHMiOiB0cnVlLAogICJjb2xvciI6ICIjZmZiMzYwIiwKICAiZGFzaEFycmF5IjogbnVsbCwKICAiZGFzaE9mZnNldCI6IG51bGwsCiAgImZpbGwiOiB0cnVlLAogICJmaWxsQ29sb3IiOiAiI2ZmYjM2MCIsCiAgImZpbGxPcGFjaXR5IjogMC43LAogICJmaWxsUnVsZSI6ICJldmVub2RkIiwKICAibGluZUNhcCI6ICJyb3VuZCIsCiAgImxpbmVKb2luIjogInJvdW5kIiwKICAib3BhY2l0eSI6IDEuMCwKICAicmFkaXVzIjogNSwKICAic3Ryb2tlIjogdHJ1ZSwKICAid2VpZ2h0IjogMwp9CiAgICAgICAgICAgICAgICApLmFkZFRvKG1hcF8wNTM4N2U3YjVmNjY0YzdkYjZhZjRjZTUwMTdiNzkyNCk7CiAgICAgICAgICAgIAogICAgCiAgICAgICAgICAgIHZhciBwb3B1cF84OTUxM2I2NzAyYmY0YjgzODRjODc1OWRhZGI3YzJiOCA9IEwucG9wdXAoe21heFdpZHRoOiAnMzAwJ30pOwoKICAgICAgICAgICAgCiAgICAgICAgICAgICAgICB2YXIgaHRtbF83MjM5YzZhODliNzU0NzFkYWRhYWY0ZGFhODM2ZmY5MCA9ICQoJzxkaXYgaWQ9Imh0bWxfNzIzOWM2YTg5Yjc1NDcxZGFkYWFmNGRhYTgzNmZmOTAiIHN0eWxlPSJ3aWR0aDogMTAwLjAlOyBoZWlnaHQ6IDEwMC4wJTsiPkNlbnRyYWwgQmF5IFN0cmVldCBDbHVzdGVyIDQ8L2Rpdj4nKVswXTsKICAgICAgICAgICAgICAgIHBvcHVwXzg5NTEzYjY3MDJiZjRiODM4NGM4NzU5ZGFkYjdjMmI4LnNldENvbnRlbnQoaHRtbF83MjM5YzZhODliNzU0NzFkYWRhYWY0ZGFhODM2ZmY5MCk7CiAgICAgICAgICAgIAoKICAgICAgICAgICAgY2lyY2xlX21hcmtlcl82NmY0YjkwODEzMTU0NTQ0ODBlODQ1NTc2MDZhNTg4Ni5iaW5kUG9wdXAocG9wdXBfODk1MTNiNjcwMmJmNGI4Mzg0Yzg3NTlkYWRiN2MyYjgpOwoKICAgICAgICAgICAgCiAgICAgICAgCiAgICAKICAgICAgICAgICAgdmFyIGNpcmNsZV9tYXJrZXJfZjQxYWI3MWU2ZWExNDc5NDlhYTU5MGYzZGRmYTIxMzkgPSBMLmNpcmNsZU1hcmtlcigKICAgICAgICAgICAgICAgIFs0My42Njk1NDIsLTc5LjQyMjU2MzddLAogICAgICAgICAgICAgICAgewogICJidWJibGluZ01vdXNlRXZlbnRzIjogdHJ1ZSwKICAiY29sb3IiOiAiI2ZmYjM2MCIsCiAgImRhc2hBcnJheSI6IG51bGwsCiAgImRhc2hPZmZzZXQiOiBudWxsLAogICJmaWxsIjogdHJ1ZSwKICAiZmlsbENvbG9yIjogIiNmZmIzNjAiLAogICJmaWxsT3BhY2l0eSI6IDAuNywKICAiZmlsbFJ1bGUiOiAiZXZlbm9kZCIsCiAgImxpbmVDYXAiOiAicm91bmQiLAogICJsaW5lSm9pbiI6ICJyb3VuZCIsCiAgIm9wYWNpdHkiOiAxLjAsCiAgInJhZGl1cyI6IDUsCiAgInN0cm9rZSI6IHRydWUsCiAgIndlaWdodCI6IDMKfQogICAgICAgICAgICAgICAgKS5hZGRUbyhtYXBfMDUzODdlN2I1ZjY2NGM3ZGI2YWY0Y2U1MDE3Yjc5MjQpOwogICAgICAgICAgICAKICAgIAogICAgICAgICAgICB2YXIgcG9wdXBfMTViNzlmZTJiMGMxNDQ4NmE1ODU4NWNkMDI2MjUwZWUgPSBMLnBvcHVwKHttYXhXaWR0aDogJzMwMCd9KTsKCiAgICAgICAgICAgIAogICAgICAgICAgICAgICAgdmFyIGh0bWxfMjliZWNmY2NjZWU1NGNkNmE1MWZmY2U2Y2UwODM3NzMgPSAkKCc8ZGl2IGlkPSJodG1sXzI5YmVjZmNjY2VlNTRjZDZhNTFmZmNlNmNlMDgzNzczIiBzdHlsZT0id2lkdGg6IDEwMC4wJTsgaGVpZ2h0OiAxMDAuMCU7Ij5DaHJpc3RpZSBDbHVzdGVyIDQ8L2Rpdj4nKVswXTsKICAgICAgICAgICAgICAgIHBvcHVwXzE1Yjc5ZmUyYjBjMTQ0ODZhNTg1ODVjZDAyNjI1MGVlLnNldENvbnRlbnQoaHRtbF8yOWJlY2ZjY2NlZTU0Y2Q2YTUxZmZjZTZjZTA4Mzc3Myk7CiAgICAgICAgICAgIAoKICAgICAgICAgICAgY2lyY2xlX21hcmtlcl9mNDFhYjcxZTZlYTE0Nzk0OWFhNTkwZjNkZGZhMjEzOS5iaW5kUG9wdXAocG9wdXBfMTViNzlmZTJiMGMxNDQ4NmE1ODU4NWNkMDI2MjUwZWUpOwoKICAgICAgICAgICAgCiAgICAgICAgCiAgICAKICAgICAgICAgICAgdmFyIGNpcmNsZV9tYXJrZXJfYjUxYmE5YmM0OWZmNDVmOWIyMTI4OWE0MGJhNWZjOGIgPSBMLmNpcmNsZU1hcmtlcigKICAgICAgICAgICAgICAgIFs0My42NTA1NzEyMDAwMDAwMSwtNzkuMzg0NTY3NV0sCiAgICAgICAgICAgICAgICB7CiAgImJ1YmJsaW5nTW91c2VFdmVudHMiOiB0cnVlLAogICJjb2xvciI6ICIjZmZiMzYwIiwKICAiZGFzaEFycmF5IjogbnVsbCwKICAiZGFzaE9mZnNldCI6IG51bGwsCiAgImZpbGwiOiB0cnVlLAogICJmaWxsQ29sb3IiOiAiI2ZmYjM2MCIsCiAgImZpbGxPcGFjaXR5IjogMC43LAogICJmaWxsUnVsZSI6ICJldmVub2RkIiwKICAibGluZUNhcCI6ICJyb3VuZCIsCiAgImxpbmVKb2luIjogInJvdW5kIiwKICAib3BhY2l0eSI6IDEuMCwKICAicmFkaXVzIjogNSwKICAic3Ryb2tlIjogdHJ1ZSwKICAid2VpZ2h0IjogMwp9CiAgICAgICAgICAgICAgICApLmFkZFRvKG1hcF8wNTM4N2U3YjVmNjY0YzdkYjZhZjRjZTUwMTdiNzkyNCk7CiAgICAgICAgICAgIAogICAgCiAgICAgICAgICAgIHZhciBwb3B1cF9iYzJkNzljOGUzZjY0OTg5YmYzYWQ0ODY4YmFlMTkxZCA9IEwucG9wdXAoe21heFdpZHRoOiAnMzAwJ30pOwoKICAgICAgICAgICAgCiAgICAgICAgICAgICAgICB2YXIgaHRtbF9lZTI1ZWE5MjFmZGI0ZTk0YTc3ZGNiMTQzNGYwYjJmZCA9ICQoJzxkaXYgaWQ9Imh0bWxfZWUyNWVhOTIxZmRiNGU5NGE3N2RjYjE0MzRmMGIyZmQiIHN0eWxlPSJ3aWR0aDogMTAwLjAlOyBoZWlnaHQ6IDEwMC4wJTsiPlJpY2htb25kICwgIEFkZWxhaWRlICwgIEtpbmcgQ2x1c3RlciA0PC9kaXY+JylbMF07CiAgICAgICAgICAgICAgICBwb3B1cF9iYzJkNzljOGUzZjY0OTg5YmYzYWQ0ODY4YmFlMTkxZC5zZXRDb250ZW50KGh0bWxfZWUyNWVhOTIxZmRiNGU5NGE3N2RjYjE0MzRmMGIyZmQpOwogICAgICAgICAgICAKCiAgICAgICAgICAgIGNpcmNsZV9tYXJrZXJfYjUxYmE5YmM0OWZmNDVmOWIyMTI4OWE0MGJhNWZjOGIuYmluZFBvcHVwKHBvcHVwX2JjMmQ3OWM4ZTNmNjQ5ODliZjNhZDQ4NjhiYWUxOTFkKTsKCiAgICAgICAgICAgIAogICAgICAgIAogICAgCiAgICAgICAgICAgIHZhciBjaXJjbGVfbWFya2VyXzliMGY2YTIzNTAxNTRkZDI5YmY1OTQzYTFkNWNjMTM3ID0gTC5jaXJjbGVNYXJrZXIoCiAgICAgICAgICAgICAgICBbNDMuNjY5MDA1MTAwMDAwMDEsLTc5LjQ0MjI1OTNdLAogICAgICAgICAgICAgICAgewogICJidWJibGluZ01vdXNlRXZlbnRzIjogdHJ1ZSwKICAiY29sb3IiOiAiI2ZmYjM2MCIsCiAgImRhc2hBcnJheSI6IG51bGwsCiAgImRhc2hPZmZzZXQiOiBudWxsLAogICJmaWxsIjogdHJ1ZSwKICAiZmlsbENvbG9yIjogIiNmZmIzNjAiLAogICJmaWxsT3BhY2l0eSI6IDAuNywKICAiZmlsbFJ1bGUiOiAiZXZlbm9kZCIsCiAgImxpbmVDYXAiOiAicm91bmQiLAogICJsaW5lSm9pbiI6ICJyb3VuZCIsCiAgIm9wYWNpdHkiOiAxLjAsCiAgInJhZGl1cyI6IDUsCiAgInN0cm9rZSI6IHRydWUsCiAgIndlaWdodCI6IDMKfQogICAgICAgICAgICAgICAgKS5hZGRUbyhtYXBfMDUzODdlN2I1ZjY2NGM3ZGI2YWY0Y2U1MDE3Yjc5MjQpOwogICAgICAgICAgICAKICAgIAogICAgICAgICAgICB2YXIgcG9wdXBfYzU4MWZlMzQ3NjQ2NDM0OThhYmY0MjdhYjIyZTYyNmMgPSBMLnBvcHVwKHttYXhXaWR0aDogJzMwMCd9KTsKCiAgICAgICAgICAgIAogICAgICAgICAgICAgICAgdmFyIGh0bWxfNmFmZTIzMTUyMTY4NDZkMGI4NjNkMjAwYzg3MTBmMjEgPSAkKCc8ZGl2IGlkPSJodG1sXzZhZmUyMzE1MjE2ODQ2ZDBiODYzZDIwMGM4NzEwZjIxIiBzdHlsZT0id2lkdGg6IDEwMC4wJTsgaGVpZ2h0OiAxMDAuMCU7Ij5EdWZmZXJpbiAsICBEb3ZlcmNvdXJ0IFZpbGxhZ2UgQ2x1c3RlciA0PC9kaXY+JylbMF07CiAgICAgICAgICAgICAgICBwb3B1cF9jNTgxZmUzNDc2NDY0MzQ5OGFiZjQyN2FiMjJlNjI2Yy5zZXRDb250ZW50KGh0bWxfNmFmZTIzMTUyMTY4NDZkMGI4NjNkMjAwYzg3MTBmMjEpOwogICAgICAgICAgICAKCiAgICAgICAgICAgIGNpcmNsZV9tYXJrZXJfOWIwZjZhMjM1MDE1NGRkMjliZjU5NDNhMWQ1Y2MxMzcuYmluZFBvcHVwKHBvcHVwX2M1ODFmZTM0NzY0NjQzNDk4YWJmNDI3YWIyMmU2MjZjKTsKCiAgICAgICAgICAgIAogICAgICAgIAogICAgCiAgICAgICAgICAgIHZhciBjaXJjbGVfbWFya2VyXzk0ODZiNTIzZGNiZDQ3YTQ4MjZiYmY1YjdhNWE2MTBhID0gTC5jaXJjbGVNYXJrZXIoCiAgICAgICAgICAgICAgICBbNDMuNjQwODE1NywtNzkuMzgxNzUyMjk5OTk5OTldLAogICAgICAgICAgICAgICAgewogICJidWJibGluZ01vdXNlRXZlbnRzIjogdHJ1ZSwKICAiY29sb3IiOiAiI2ZmMDAwMCIsCiAgImRhc2hBcnJheSI6IG51bGwsCiAgImRhc2hPZmZzZXQiOiBudWxsLAogICJmaWxsIjogdHJ1ZSwKICAiZmlsbENvbG9yIjogIiNmZjAwMDAiLAogICJmaWxsT3BhY2l0eSI6IDAuNywKICAiZmlsbFJ1bGUiOiAiZXZlbm9kZCIsCiAgImxpbmVDYXAiOiAicm91bmQiLAogICJsaW5lSm9pbiI6ICJyb3VuZCIsCiAgIm9wYWNpdHkiOiAxLjAsCiAgInJhZGl1cyI6IDUsCiAgInN0cm9rZSI6IHRydWUsCiAgIndlaWdodCI6IDMKfQogICAgICAgICAgICAgICAgKS5hZGRUbyhtYXBfMDUzODdlN2I1ZjY2NGM3ZGI2YWY0Y2U1MDE3Yjc5MjQpOwogICAgICAgICAgICAKICAgIAogICAgICAgICAgICB2YXIgcG9wdXBfMDhjMzdkMDdiZTVmNGI5NDgyYTBhYWI4MmRkOTdjYmMgPSBMLnBvcHVwKHttYXhXaWR0aDogJzMwMCd9KTsKCiAgICAgICAgICAgIAogICAgICAgICAgICAgICAgdmFyIGh0bWxfZGJkYmI5ZTdlM2ZlNDBiN2FmZGE1ZDJkOWIzMTkyOWUgPSAkKCc8ZGl2IGlkPSJodG1sX2RiZGJiOWU3ZTNmZTQwYjdhZmRhNWQyZDliMzE5MjllIiBzdHlsZT0id2lkdGg6IDEwMC4wJTsgaGVpZ2h0OiAxMDAuMCU7Ij5IYXJib3VyZnJvbnQgRWFzdCAsICBVbmlvbiBTdGF0aW9uICwgIFRvcm9udG8gSXNsYW5kcyBDbHVzdGVyIDA8L2Rpdj4nKVswXTsKICAgICAgICAgICAgICAgIHBvcHVwXzA4YzM3ZDA3YmU1ZjRiOTQ4MmEwYWFiODJkZDk3Y2JjLnNldENvbnRlbnQoaHRtbF9kYmRiYjllN2UzZmU0MGI3YWZkYTVkMmQ5YjMxOTI5ZSk7CiAgICAgICAgICAgIAoKICAgICAgICAgICAgY2lyY2xlX21hcmtlcl85NDg2YjUyM2RjYmQ0N2E0ODI2YmJmNWI3YTVhNjEwYS5iaW5kUG9wdXAocG9wdXBfMDhjMzdkMDdiZTVmNGI5NDgyYTBhYWI4MmRkOTdjYmMpOwoKICAgICAgICAgICAgCiAgICAgICAgCiAgICAKICAgICAgICAgICAgdmFyIGNpcmNsZV9tYXJrZXJfNzRkYWQ5YzJkNTIxNDAwNzk3NWFiN2M2NDBkOTA5YTkgPSBMLmNpcmNsZU1hcmtlcigKICAgICAgICAgICAgICAgIFs0My42NDc5MjY3MDAwMDAwMDYsLTc5LjQxOTc0OTddLAogICAgICAgICAgICAgICAgewogICJidWJibGluZ01vdXNlRXZlbnRzIjogdHJ1ZSwKICAiY29sb3IiOiAiI2ZmYjM2MCIsCiAgImRhc2hBcnJheSI6IG51bGwsCiAgImRhc2hPZmZzZXQiOiBudWxsLAogICJmaWxsIjogdHJ1ZSwKICAiZmlsbENvbG9yIjogIiNmZmIzNjAiLAogICJmaWxsT3BhY2l0eSI6IDAuNywKICAiZmlsbFJ1bGUiOiAiZXZlbm9kZCIsCiAgImxpbmVDYXAiOiAicm91bmQiLAogICJsaW5lSm9pbiI6ICJyb3VuZCIsCiAgIm9wYWNpdHkiOiAxLjAsCiAgInJhZGl1cyI6IDUsCiAgInN0cm9rZSI6IHRydWUsCiAgIndlaWdodCI6IDMKfQogICAgICAgICAgICAgICAgKS5hZGRUbyhtYXBfMDUzODdlN2I1ZjY2NGM3ZGI2YWY0Y2U1MDE3Yjc5MjQpOwogICAgICAgICAgICAKICAgIAogICAgICAgICAgICB2YXIgcG9wdXBfMjYzMTQxZWQ5ZTJiNGE3Njg4Y2MxNWQ4NjYwOTBlZjYgPSBMLnBvcHVwKHttYXhXaWR0aDogJzMwMCd9KTsKCiAgICAgICAgICAgIAogICAgICAgICAgICAgICAgdmFyIGh0bWxfYmUwM2Y0YzQ0ZDU4NDgxNGFjMGQzYjg4NzQ4YWY4YzUgPSAkKCc8ZGl2IGlkPSJodG1sX2JlMDNmNGM0NGQ1ODQ4MTRhYzBkM2I4ODc0OGFmOGM1IiBzdHlsZT0id2lkdGg6IDEwMC4wJTsgaGVpZ2h0OiAxMDAuMCU7Ij5MaXR0bGUgUG9ydHVnYWwgLCAgVHJpbml0eSBDbHVzdGVyIDQ8L2Rpdj4nKVswXTsKICAgICAgICAgICAgICAgIHBvcHVwXzI2MzE0MWVkOWUyYjRhNzY4OGNjMTVkODY2MDkwZWY2LnNldENvbnRlbnQoaHRtbF9iZTAzZjRjNDRkNTg0ODE0YWMwZDNiODg3NDhhZjhjNSk7CiAgICAgICAgICAgIAoKICAgICAgICAgICAgY2lyY2xlX21hcmtlcl83NGRhZDljMmQ1MjE0MDA3OTc1YWI3YzY0MGQ5MDlhOS5iaW5kUG9wdXAocG9wdXBfMjYzMTQxZWQ5ZTJiNGE3Njg4Y2MxNWQ4NjYwOTBlZjYpOwoKICAgICAgICAgICAgCiAgICAgICAgCiAgICAKICAgICAgICAgICAgdmFyIGNpcmNsZV9tYXJrZXJfYmVjMTc5NjJhNzI3NGE1M2JkNjhiMGQwMTk0MmM4NWQgPSBMLmNpcmNsZU1hcmtlcigKICAgICAgICAgICAgICAgIFs0My42Nzk1NTcxLC03OS4zNTIxODhdLAogICAgICAgICAgICAgICAgewogICJidWJibGluZ01vdXNlRXZlbnRzIjogdHJ1ZSwKICAiY29sb3IiOiAiIzAwYjVlYiIsCiAgImRhc2hBcnJheSI6IG51bGwsCiAgImRhc2hPZmZzZXQiOiBudWxsLAogICJmaWxsIjogdHJ1ZSwKICAiZmlsbENvbG9yIjogIiMwMGI1ZWIiLAogICJmaWxsT3BhY2l0eSI6IDAuNywKICAiZmlsbFJ1bGUiOiAiZXZlbm9kZCIsCiAgImxpbmVDYXAiOiAicm91bmQiLAogICJsaW5lSm9pbiI6ICJyb3VuZCIsCiAgIm9wYWNpdHkiOiAxLjAsCiAgInJhZGl1cyI6IDUsCiAgInN0cm9rZSI6IHRydWUsCiAgIndlaWdodCI6IDMKfQogICAgICAgICAgICAgICAgKS5hZGRUbyhtYXBfMDUzODdlN2I1ZjY2NGM3ZGI2YWY0Y2U1MDE3Yjc5MjQpOwogICAgICAgICAgICAKICAgIAogICAgICAgICAgICB2YXIgcG9wdXBfMWJjZGVhZjY5ODczNGRlY2IzNTk0ZTVlYWNmYWEyODcgPSBMLnBvcHVwKHttYXhXaWR0aDogJzMwMCd9KTsKCiAgICAgICAgICAgIAogICAgICAgICAgICAgICAgdmFyIGh0bWxfNTNmM2VkMWQzZjhhNGU0MmJhZGI0MzYzM2RiMGI1MjcgPSAkKCc8ZGl2IGlkPSJodG1sXzUzZjNlZDFkM2Y4YTRlNDJiYWRiNDM2MzNkYjBiNTI3IiBzdHlsZT0id2lkdGg6IDEwMC4wJTsgaGVpZ2h0OiAxMDAuMCU7Ij5UaGUgRGFuZm9ydGggV2VzdCAsICBSaXZlcmRhbGUgQ2x1c3RlciAyPC9kaXY+JylbMF07CiAgICAgICAgICAgICAgICBwb3B1cF8xYmNkZWFmNjk4NzM0ZGVjYjM1OTRlNWVhY2ZhYTI4Ny5zZXRDb250ZW50KGh0bWxfNTNmM2VkMWQzZjhhNGU0MmJhZGI0MzYzM2RiMGI1MjcpOwogICAgICAgICAgICAKCiAgICAgICAgICAgIGNpcmNsZV9tYXJrZXJfYmVjMTc5NjJhNzI3NGE1M2JkNjhiMGQwMTk0MmM4NWQuYmluZFBvcHVwKHBvcHVwXzFiY2RlYWY2OTg3MzRkZWNiMzU5NGU1ZWFjZmFhMjg3KTsKCiAgICAgICAgICAgIAogICAgICAgIAogICAgCiAgICAgICAgICAgIHZhciBjaXJjbGVfbWFya2VyX2RlYjQ2YTNmZjc1ZDRjYzJhMmExYjEyZWM2NmNkZmNjID0gTC5jaXJjbGVNYXJrZXIoCiAgICAgICAgICAgICAgICBbNDMuNjQ3MTc2OCwtNzkuMzgxNTc2NDAwMDAwMDFdLAogICAgICAgICAgICAgICAgewogICJidWJibGluZ01vdXNlRXZlbnRzIjogdHJ1ZSwKICAiY29sb3IiOiAiI2ZmYjM2MCIsCiAgImRhc2hBcnJheSI6IG51bGwsCiAgImRhc2hPZmZzZXQiOiBudWxsLAogICJmaWxsIjogdHJ1ZSwKICAiZmlsbENvbG9yIjogIiNmZmIzNjAiLAogICJmaWxsT3BhY2l0eSI6IDAuNywKICAiZmlsbFJ1bGUiOiAiZXZlbm9kZCIsCiAgImxpbmVDYXAiOiAicm91bmQiLAogICJsaW5lSm9pbiI6ICJyb3VuZCIsCiAgIm9wYWNpdHkiOiAxLjAsCiAgInJhZGl1cyI6IDUsCiAgInN0cm9rZSI6IHRydWUsCiAgIndlaWdodCI6IDMKfQogICAgICAgICAgICAgICAgKS5hZGRUbyhtYXBfMDUzODdlN2I1ZjY2NGM3ZGI2YWY0Y2U1MDE3Yjc5MjQpOwogICAgICAgICAgICAKICAgIAogICAgICAgICAgICB2YXIgcG9wdXBfNGU5ZDE3YzQwYmJhNDFkNGJhNWVlYTI5ZWU2NTRiZDIgPSBMLnBvcHVwKHttYXhXaWR0aDogJzMwMCd9KTsKCiAgICAgICAgICAgIAogICAgICAgICAgICAgICAgdmFyIGh0bWxfOTJiMjg1NGNiOGM0NGE4ZWJjMzg5MDIwNGE4NzdjNzcgPSAkKCc8ZGl2IGlkPSJodG1sXzkyYjI4NTRjYjhjNDRhOGViYzM4OTAyMDRhODc3Yzc3IiBzdHlsZT0id2lkdGg6IDEwMC4wJTsgaGVpZ2h0OiAxMDAuMCU7Ij5Ub3JvbnRvIERvbWluaW9uIENlbnRyZSAsICBEZXNpZ24gRXhjaGFuZ2UgQ2x1c3RlciA0PC9kaXY+JylbMF07CiAgICAgICAgICAgICAgICBwb3B1cF80ZTlkMTdjNDBiYmE0MWQ0YmE1ZWVhMjllZTY1NGJkMi5zZXRDb250ZW50KGh0bWxfOTJiMjg1NGNiOGM0NGE4ZWJjMzg5MDIwNGE4NzdjNzcpOwogICAgICAgICAgICAKCiAgICAgICAgICAgIGNpcmNsZV9tYXJrZXJfZGViNDZhM2ZmNzVkNGNjMmEyYTFiMTJlYzY2Y2RmY2MuYmluZFBvcHVwKHBvcHVwXzRlOWQxN2M0MGJiYTQxZDRiYTVlZWEyOWVlNjU0YmQyKTsKCiAgICAgICAgICAgIAogICAgICAgIAogICAgCiAgICAgICAgICAgIHZhciBjaXJjbGVfbWFya2VyXzFmYzI3OGZhMWIxNzRkMzk4ZWU5ZTkwYmJhNTg3ZjBjID0gTC5jaXJjbGVNYXJrZXIoCiAgICAgICAgICAgICAgICBbNDMuNjM2ODQ3MiwtNzkuNDI4MTkxNDAwMDAwMDJdLAogICAgICAgICAgICAgICAgewogICJidWJibGluZ01vdXNlRXZlbnRzIjogdHJ1ZSwKICAiY29sb3IiOiAiI2ZmYjM2MCIsCiAgImRhc2hBcnJheSI6IG51bGwsCiAgImRhc2hPZmZzZXQiOiBudWxsLAogICJmaWxsIjogdHJ1ZSwKICAiZmlsbENvbG9yIjogIiNmZmIzNjAiLAogICJmaWxsT3BhY2l0eSI6IDAuNywKICAiZmlsbFJ1bGUiOiAiZXZlbm9kZCIsCiAgImxpbmVDYXAiOiAicm91bmQiLAogICJsaW5lSm9pbiI6ICJyb3VuZCIsCiAgIm9wYWNpdHkiOiAxLjAsCiAgInJhZGl1cyI6IDUsCiAgInN0cm9rZSI6IHRydWUsCiAgIndlaWdodCI6IDMKfQogICAgICAgICAgICAgICAgKS5hZGRUbyhtYXBfMDUzODdlN2I1ZjY2NGM3ZGI2YWY0Y2U1MDE3Yjc5MjQpOwogICAgICAgICAgICAKICAgIAogICAgICAgICAgICB2YXIgcG9wdXBfN2VjNWE5ZTYzNDQwNGIyNzk1YjUwMzM1NDYyMTJmYzYgPSBMLnBvcHVwKHttYXhXaWR0aDogJzMwMCd9KTsKCiAgICAgICAgICAgIAogICAgICAgICAgICAgICAgdmFyIGh0bWxfZDQ3NDI5NmE5ZGQ4NGYwNWEyZTY0NDA0ZjhjZTM1ODggPSAkKCc8ZGl2IGlkPSJodG1sX2Q0NzQyOTZhOWRkODRmMDVhMmU2NDQwNGY4Y2UzNTg4IiBzdHlsZT0id2lkdGg6IDEwMC4wJTsgaGVpZ2h0OiAxMDAuMCU7Ij5Ccm9ja3RvbiAsICBQYXJrZGFsZSBWaWxsYWdlICwgIEV4aGliaXRpb24gUGxhY2UgQ2x1c3RlciA0PC9kaXY+JylbMF07CiAgICAgICAgICAgICAgICBwb3B1cF83ZWM1YTllNjM0NDA0YjI3OTViNTAzMzU0NjIxMmZjNi5zZXRDb250ZW50KGh0bWxfZDQ3NDI5NmE5ZGQ4NGYwNWEyZTY0NDA0ZjhjZTM1ODgpOwogICAgICAgICAgICAKCiAgICAgICAgICAgIGNpcmNsZV9tYXJrZXJfMWZjMjc4ZmExYjE3NGQzOThlZTllOTBiYmE1ODdmMGMuYmluZFBvcHVwKHBvcHVwXzdlYzVhOWU2MzQ0MDRiMjc5NWI1MDMzNTQ2MjEyZmM2KTsKCiAgICAgICAgICAgIAogICAgICAgIAogICAgCiAgICAgICAgICAgIHZhciBjaXJjbGVfbWFya2VyX2YwYTA5MmU2MGIyYTQ0NzE5NjhhZjE0ZmYyM2RiOTk1ID0gTC5jaXJjbGVNYXJrZXIoCiAgICAgICAgICAgICAgICBbNDMuNjY4OTk4NSwtNzkuMzE1NTcxNTk5OTk5OThdLAogICAgICAgICAgICAgICAgewogICJidWJibGluZ01vdXNlRXZlbnRzIjogdHJ1ZSwKICAiY29sb3IiOiAiI2ZmMDAwMCIsCiAgImRhc2hBcnJheSI6IG51bGwsCiAgImRhc2hPZmZzZXQiOiBudWxsLAogICJmaWxsIjogdHJ1ZSwKICAiZmlsbENvbG9yIjogIiNmZjAwMDAiLAogICJmaWxsT3BhY2l0eSI6IDAuNywKICAiZmlsbFJ1bGUiOiAiZXZlbm9kZCIsCiAgImxpbmVDYXAiOiAicm91bmQiLAogICJsaW5lSm9pbiI6ICJyb3VuZCIsCiAgIm9wYWNpdHkiOiAxLjAsCiAgInJhZGl1cyI6IDUsCiAgInN0cm9rZSI6IHRydWUsCiAgIndlaWdodCI6IDMKfQogICAgICAgICAgICAgICAgKS5hZGRUbyhtYXBfMDUzODdlN2I1ZjY2NGM3ZGI2YWY0Y2U1MDE3Yjc5MjQpOwogICAgICAgICAgICAKICAgIAogICAgICAgICAgICB2YXIgcG9wdXBfNjNkMDI5MjQwMGE0NGI2MDkzNTFjNDE0ZmVkYWU3MzggPSBMLnBvcHVwKHttYXhXaWR0aDogJzMwMCd9KTsKCiAgICAgICAgICAgIAogICAgICAgICAgICAgICAgdmFyIGh0bWxfNWMyODJlZDg3NWY3NGU3Y2E2N2I2ODE4MDRiYjM5NzUgPSAkKCc8ZGl2IGlkPSJodG1sXzVjMjgyZWQ4NzVmNzRlN2NhNjdiNjgxODA0YmIzOTc1IiBzdHlsZT0id2lkdGg6IDEwMC4wJTsgaGVpZ2h0OiAxMDAuMCU7Ij5JbmRpYSBCYXphYXIgLCAgVGhlIEJlYWNoZXMgV2VzdCBDbHVzdGVyIDA8L2Rpdj4nKVswXTsKICAgICAgICAgICAgICAgIHBvcHVwXzYzZDAyOTI0MDBhNDRiNjA5MzUxYzQxNGZlZGFlNzM4LnNldENvbnRlbnQoaHRtbF81YzI4MmVkODc1Zjc0ZTdjYTY3YjY4MTgwNGJiMzk3NSk7CiAgICAgICAgICAgIAoKICAgICAgICAgICAgY2lyY2xlX21hcmtlcl9mMGEwOTJlNjBiMmE0NDcxOTY4YWYxNGZmMjNkYjk5NS5iaW5kUG9wdXAocG9wdXBfNjNkMDI5MjQwMGE0NGI2MDkzNTFjNDE0ZmVkYWU3MzgpOwoKICAgICAgICAgICAgCiAgICAgICAgCiAgICAKICAgICAgICAgICAgdmFyIGNpcmNsZV9tYXJrZXJfZWFlMzc3NDZiNzNmNDkzZjljZDEwODA4MDI1NTRmYzggPSBMLmNpcmNsZU1hcmtlcigKICAgICAgICAgICAgICAgIFs0My42NDgxOTg1LC03OS4zNzk4MTY5MDAwMDAwMV0sCiAgICAgICAgICAgICAgICB7CiAgImJ1YmJsaW5nTW91c2VFdmVudHMiOiB0cnVlLAogICJjb2xvciI6ICIjZmZiMzYwIiwKICAiZGFzaEFycmF5IjogbnVsbCwKICAiZGFzaE9mZnNldCI6IG51bGwsCiAgImZpbGwiOiB0cnVlLAogICJmaWxsQ29sb3IiOiAiI2ZmYjM2MCIsCiAgImZpbGxPcGFjaXR5IjogMC43LAogICJmaWxsUnVsZSI6ICJldmVub2RkIiwKICAibGluZUNhcCI6ICJyb3VuZCIsCiAgImxpbmVKb2luIjogInJvdW5kIiwKICAib3BhY2l0eSI6IDEuMCwKICAicmFkaXVzIjogNSwKICAic3Ryb2tlIjogdHJ1ZSwKICAid2VpZ2h0IjogMwp9CiAgICAgICAgICAgICAgICApLmFkZFRvKG1hcF8wNTM4N2U3YjVmNjY0YzdkYjZhZjRjZTUwMTdiNzkyNCk7CiAgICAgICAgICAgIAogICAgCiAgICAgICAgICAgIHZhciBwb3B1cF85YTRkNTUyZTQwMTg0NjY1YmY5ZDI3NzExOWU2ODk3ZSA9IEwucG9wdXAoe21heFdpZHRoOiAnMzAwJ30pOwoKICAgICAgICAgICAgCiAgICAgICAgICAgICAgICB2YXIgaHRtbF9mNDU3ZWMwYzcyMWI0NTM3OWFjNWRkNTYxYjA0NDY1NyA9ICQoJzxkaXYgaWQ9Imh0bWxfZjQ1N2VjMGM3MjFiNDUzNzlhYzVkZDU2MWIwNDQ2NTciIHN0eWxlPSJ3aWR0aDogMTAwLjAlOyBoZWlnaHQ6IDEwMC4wJTsiPkNvbW1lcmNlIENvdXJ0ICwgIFZpY3RvcmlhIEhvdGVsIENsdXN0ZXIgNDwvZGl2PicpWzBdOwogICAgICAgICAgICAgICAgcG9wdXBfOWE0ZDU1MmU0MDE4NDY2NWJmOWQyNzcxMTllNjg5N2Uuc2V0Q29udGVudChodG1sX2Y0NTdlYzBjNzIxYjQ1Mzc5YWM1ZGQ1NjFiMDQ0NjU3KTsKICAgICAgICAgICAgCgogICAgICAgICAgICBjaXJjbGVfbWFya2VyX2VhZTM3NzQ2YjczZjQ5M2Y5Y2QxMDgwODAyNTU0ZmM4LmJpbmRQb3B1cChwb3B1cF85YTRkNTUyZTQwMTg0NjY1YmY5ZDI3NzExOWU2ODk3ZSk7CgogICAgICAgICAgICAKICAgICAgICAKICAgIAogICAgICAgICAgICB2YXIgY2lyY2xlX21hcmtlcl85NzdjNjdlYTk4MmM0MDIzYmZmMzhhODQzMjlmZWYxZCA9IEwuY2lyY2xlTWFya2VyKAogICAgICAgICAgICAgICAgWzQzLjY1OTUyNTUsLTc5LjM0MDkyM10sCiAgICAgICAgICAgICAgICB7CiAgImJ1YmJsaW5nTW91c2VFdmVudHMiOiB0cnVlLAogICJjb2xvciI6ICIjZmZiMzYwIiwKICAiZGFzaEFycmF5IjogbnVsbCwKICAiZGFzaE9mZnNldCI6IG51bGwsCiAgImZpbGwiOiB0cnVlLAogICJmaWxsQ29sb3IiOiAiI2ZmYjM2MCIsCiAgImZpbGxPcGFjaXR5IjogMC43LAogICJmaWxsUnVsZSI6ICJldmVub2RkIiwKICAibGluZUNhcCI6ICJyb3VuZCIsCiAgImxpbmVKb2luIjogInJvdW5kIiwKICAib3BhY2l0eSI6IDEuMCwKICAicmFkaXVzIjogNSwKICAic3Ryb2tlIjogdHJ1ZSwKICAid2VpZ2h0IjogMwp9CiAgICAgICAgICAgICAgICApLmFkZFRvKG1hcF8wNTM4N2U3YjVmNjY0YzdkYjZhZjRjZTUwMTdiNzkyNCk7CiAgICAgICAgICAgIAogICAgCiAgICAgICAgICAgIHZhciBwb3B1cF9hNjE4MjJmM2NhYTY0YjUwODg1OWVlNzkyYWJhODgxNiA9IEwucG9wdXAoe21heFdpZHRoOiAnMzAwJ30pOwoKICAgICAgICAgICAgCiAgICAgICAgICAgICAgICB2YXIgaHRtbF8xYjZmMGU2YTIwZTg0YTRiOGNjMThmOTNiMWJkYjIwZiA9ICQoJzxkaXYgaWQ9Imh0bWxfMWI2ZjBlNmEyMGU4NGE0YjhjYzE4ZjkzYjFiZGIyMGYiIHN0eWxlPSJ3aWR0aDogMTAwLjAlOyBoZWlnaHQ6IDEwMC4wJTsiPlN0dWRpbyBEaXN0cmljdCBDbHVzdGVyIDQ8L2Rpdj4nKVswXTsKICAgICAgICAgICAgICAgIHBvcHVwX2E2MTgyMmYzY2FhNjRiNTA4ODU5ZWU3OTJhYmE4ODE2LnNldENvbnRlbnQoaHRtbF8xYjZmMGU2YTIwZTg0YTRiOGNjMThmOTNiMWJkYjIwZik7CiAgICAgICAgICAgIAoKICAgICAgICAgICAgY2lyY2xlX21hcmtlcl85NzdjNjdlYTk4MmM0MDIzYmZmMzhhODQzMjlmZWYxZC5iaW5kUG9wdXAocG9wdXBfYTYxODIyZjNjYWE2NGI1MDg4NTllZTc5MmFiYTg4MTYpOwoKICAgICAgICAgICAgCiAgICAgICAgCiAgICAKICAgICAgICAgICAgdmFyIGNpcmNsZV9tYXJrZXJfOGQyZjA1OGU5YWRjNDk4MTg3MzJkNzBhZjFhMGM2N2MgPSBMLmNpcmNsZU1hcmtlcigKICAgICAgICAgICAgICAgIFs0My43MjgwMjA1LC03OS4zODg3OTAxXSwKICAgICAgICAgICAgICAgIHsKICAiYnViYmxpbmdNb3VzZUV2ZW50cyI6IHRydWUsCiAgImNvbG9yIjogIiMwMGI1ZWIiLAogICJkYXNoQXJyYXkiOiBudWxsLAogICJkYXNoT2Zmc2V0IjogbnVsbCwKICAiZmlsbCI6IHRydWUsCiAgImZpbGxDb2xvciI6ICIjMDBiNWViIiwKICAiZmlsbE9wYWNpdHkiOiAwLjcsCiAgImZpbGxSdWxlIjogImV2ZW5vZGQiLAogICJsaW5lQ2FwIjogInJvdW5kIiwKICAibGluZUpvaW4iOiAicm91bmQiLAogICJvcGFjaXR5IjogMS4wLAogICJyYWRpdXMiOiA1LAogICJzdHJva2UiOiB0cnVlLAogICJ3ZWlnaHQiOiAzCn0KICAgICAgICAgICAgICAgICkuYWRkVG8obWFwXzA1Mzg3ZTdiNWY2NjRjN2RiNmFmNGNlNTAxN2I3OTI0KTsKICAgICAgICAgICAgCiAgICAKICAgICAgICAgICAgdmFyIHBvcHVwXzA4ODY5OGJkMWFiYzRlODRhOGMyODQ3Mzc0ZDIzMzAwID0gTC5wb3B1cCh7bWF4V2lkdGg6ICczMDAnfSk7CgogICAgICAgICAgICAKICAgICAgICAgICAgICAgIHZhciBodG1sXzQwMmMwMTdkZjRlYjRiYjlhNTI1M2I0MDFiNjY1ZWFmID0gJCgnPGRpdiBpZD0iaHRtbF80MDJjMDE3ZGY0ZWI0YmI5YTUyNTNiNDAxYjY2NWVhZiIgc3R5bGU9IndpZHRoOiAxMDAuMCU7IGhlaWdodDogMTAwLjAlOyI+TGF3cmVuY2UgUGFyayBDbHVzdGVyIDI8L2Rpdj4nKVswXTsKICAgICAgICAgICAgICAgIHBvcHVwXzA4ODY5OGJkMWFiYzRlODRhOGMyODQ3Mzc0ZDIzMzAwLnNldENvbnRlbnQoaHRtbF80MDJjMDE3ZGY0ZWI0YmI5YTUyNTNiNDAxYjY2NWVhZik7CiAgICAgICAgICAgIAoKICAgICAgICAgICAgY2lyY2xlX21hcmtlcl84ZDJmMDU4ZTlhZGM0OTgxODczMmQ3MGFmMWEwYzY3Yy5iaW5kUG9wdXAocG9wdXBfMDg4Njk4YmQxYWJjNGU4NGE4YzI4NDczNzRkMjMzMDApOwoKICAgICAgICAgICAgCiAgICAgICAgCiAgICAKICAgICAgICAgICAgdmFyIGNpcmNsZV9tYXJrZXJfMWE3ZTNmMjkzOTI3NDE4OTg1OGUyZDkxODQzMjY5YmMgPSBMLmNpcmNsZU1hcmtlcigKICAgICAgICAgICAgICAgIFs0My43MTE2OTQ4LC03OS40MTY5MzU1OTk5OTk5OV0sCiAgICAgICAgICAgICAgICB7CiAgImJ1YmJsaW5nTW91c2VFdmVudHMiOiB0cnVlLAogICJjb2xvciI6ICIjZmZiMzYwIiwKICAiZGFzaEFycmF5IjogbnVsbCwKICAiZGFzaE9mZnNldCI6IG51bGwsCiAgImZpbGwiOiB0cnVlLAogICJmaWxsQ29sb3IiOiAiI2ZmYjM2MCIsCiAgImZpbGxPcGFjaXR5IjogMC43LAogICJmaWxsUnVsZSI6ICJldmVub2RkIiwKICAibGluZUNhcCI6ICJyb3VuZCIsCiAgImxpbmVKb2luIjogInJvdW5kIiwKICAib3BhY2l0eSI6IDEuMCwKICAicmFkaXVzIjogNSwKICAic3Ryb2tlIjogdHJ1ZSwKICAid2VpZ2h0IjogMwp9CiAgICAgICAgICAgICAgICApLmFkZFRvKG1hcF8wNTM4N2U3YjVmNjY0YzdkYjZhZjRjZTUwMTdiNzkyNCk7CiAgICAgICAgICAgIAogICAgCiAgICAgICAgICAgIHZhciBwb3B1cF81ZDkyNzgzOGZhMDU0OGY1YTkyNWM1N2YzZGQzOTYzZSA9IEwucG9wdXAoe21heFdpZHRoOiAnMzAwJ30pOwoKICAgICAgICAgICAgCiAgICAgICAgICAgICAgICB2YXIgaHRtbF8zZGM4YjRjNWU3OGM0YzVhOTVjYWJlNGQ4MWU5MjdjNyA9ICQoJzxkaXYgaWQ9Imh0bWxfM2RjOGI0YzVlNzhjNGM1YTk1Y2FiZTRkODFlOTI3YzciIHN0eWxlPSJ3aWR0aDogMTAwLjAlOyBoZWlnaHQ6IDEwMC4wJTsiPlJvc2VsYXduIENsdXN0ZXIgNDwvZGl2PicpWzBdOwogICAgICAgICAgICAgICAgcG9wdXBfNWQ5Mjc4MzhmYTA1NDhmNWE5MjVjNTdmM2RkMzk2M2Uuc2V0Q29udGVudChodG1sXzNkYzhiNGM1ZTc4YzRjNWE5NWNhYmU0ZDgxZTkyN2M3KTsKICAgICAgICAgICAgCgogICAgICAgICAgICBjaXJjbGVfbWFya2VyXzFhN2UzZjI5MzkyNzQxODk4NThlMmQ5MTg0MzI2OWJjLmJpbmRQb3B1cChwb3B1cF81ZDkyNzgzOGZhMDU0OGY1YTkyNWM1N2YzZGQzOTYzZSk7CgogICAgICAgICAgICAKICAgICAgICAKICAgIAogICAgICAgICAgICB2YXIgY2lyY2xlX21hcmtlcl82ZDgxYjM0YzMzYzc0ZTJlODY5YjJhMDc0YmFkZjc0ZSA9IEwuY2lyY2xlTWFya2VyKAogICAgICAgICAgICAgICAgWzQzLjcxMjc1MTEsLTc5LjM5MDE5NzVdLAogICAgICAgICAgICAgICAgewogICJidWJibGluZ01vdXNlRXZlbnRzIjogdHJ1ZSwKICAiY29sb3IiOiAiIzgwZmZiNCIsCiAgImRhc2hBcnJheSI6IG51bGwsCiAgImRhc2hPZmZzZXQiOiBudWxsLAogICJmaWxsIjogdHJ1ZSwKICAiZmlsbENvbG9yIjogIiM4MGZmYjQiLAogICJmaWxsT3BhY2l0eSI6IDAuNywKICAiZmlsbFJ1bGUiOiAiZXZlbm9kZCIsCiAgImxpbmVDYXAiOiAicm91bmQiLAogICJsaW5lSm9pbiI6ICJyb3VuZCIsCiAgIm9wYWNpdHkiOiAxLjAsCiAgInJhZGl1cyI6IDUsCiAgInN0cm9rZSI6IHRydWUsCiAgIndlaWdodCI6IDMKfQogICAgICAgICAgICAgICAgKS5hZGRUbyhtYXBfMDUzODdlN2I1ZjY2NGM3ZGI2YWY0Y2U1MDE3Yjc5MjQpOwogICAgICAgICAgICAKICAgIAogICAgICAgICAgICB2YXIgcG9wdXBfODMzYWYwNmJjMjY5NDRkM2IwODA0ZWUzN2NiM2E1YTggPSBMLnBvcHVwKHttYXhXaWR0aDogJzMwMCd9KTsKCiAgICAgICAgICAgIAogICAgICAgICAgICAgICAgdmFyIGh0bWxfYTlkYzA1MzhiNDgwNDRkNmFiMzkxYzg5NjdkZDkyMjAgPSAkKCc8ZGl2IGlkPSJodG1sX2E5ZGMwNTM4YjQ4MDQ0ZDZhYjM5MWM4OTY3ZGQ5MjIwIiBzdHlsZT0id2lkdGg6IDEwMC4wJTsgaGVpZ2h0OiAxMDAuMCU7Ij5EYXZpc3ZpbGxlIE5vcnRoIENsdXN0ZXIgMzwvZGl2PicpWzBdOwogICAgICAgICAgICAgICAgcG9wdXBfODMzYWYwNmJjMjY5NDRkM2IwODA0ZWUzN2NiM2E1YTguc2V0Q29udGVudChodG1sX2E5ZGMwNTM4YjQ4MDQ0ZDZhYjM5MWM4OTY3ZGQ5MjIwKTsKICAgICAgICAgICAgCgogICAgICAgICAgICBjaXJjbGVfbWFya2VyXzZkODFiMzRjMzNjNzRlMmU4NjliMmEwNzRiYWRmNzRlLmJpbmRQb3B1cChwb3B1cF84MzNhZjA2YmMyNjk0NGQzYjA4MDRlZTM3Y2IzYTVhOCk7CgogICAgICAgICAgICAKICAgICAgICAKICAgIAogICAgICAgICAgICB2YXIgY2lyY2xlX21hcmtlcl9kODQyMjVlZjQ0ZGE0OGVhODEzZTgxYjM2MDUyNjRhNCA9IEwuY2lyY2xlTWFya2VyKAogICAgICAgICAgICAgICAgWzQzLjY5Njk0NzYsLTc5LjQxMTMwNzIwMDAwMDAxXSwKICAgICAgICAgICAgICAgIHsKICAiYnViYmxpbmdNb3VzZUV2ZW50cyI6IHRydWUsCiAgImNvbG9yIjogIiNmZmIzNjAiLAogICJkYXNoQXJyYXkiOiBudWxsLAogICJkYXNoT2Zmc2V0IjogbnVsbCwKICAiZmlsbCI6IHRydWUsCiAgImZpbGxDb2xvciI6ICIjZmZiMzYwIiwKICAiZmlsbE9wYWNpdHkiOiAwLjcsCiAgImZpbGxSdWxlIjogImV2ZW5vZGQiLAogICJsaW5lQ2FwIjogInJvdW5kIiwKICAibGluZUpvaW4iOiAicm91bmQiLAogICJvcGFjaXR5IjogMS4wLAogICJyYWRpdXMiOiA1LAogICJzdHJva2UiOiB0cnVlLAogICJ3ZWlnaHQiOiAzCn0KICAgICAgICAgICAgICAgICkuYWRkVG8obWFwXzA1Mzg3ZTdiNWY2NjRjN2RiNmFmNGNlNTAxN2I3OTI0KTsKICAgICAgICAgICAgCiAgICAKICAgICAgICAgICAgdmFyIHBvcHVwXzY2MDFmOWM4YTgwOTRiMmJhMWRhM2QxODE3NDQ5OTEyID0gTC5wb3B1cCh7bWF4V2lkdGg6ICczMDAnfSk7CgogICAgICAgICAgICAKICAgICAgICAgICAgICAgIHZhciBodG1sX2UwYmY0NjMwMzY4ODRlMzM4YTdiYWVkNzYwYjY3Nzk4ID0gJCgnPGRpdiBpZD0iaHRtbF9lMGJmNDYzMDM2ODg0ZTMzOGE3YmFlZDc2MGI2Nzc5OCIgc3R5bGU9IndpZHRoOiAxMDAuMCU7IGhlaWdodDogMTAwLjAlOyI+Rm9yZXN0IEhpbGwgTm9ydGggJmFtcDsgV2VzdCBDbHVzdGVyIDQ8L2Rpdj4nKVswXTsKICAgICAgICAgICAgICAgIHBvcHVwXzY2MDFmOWM4YTgwOTRiMmJhMWRhM2QxODE3NDQ5OTEyLnNldENvbnRlbnQoaHRtbF9lMGJmNDYzMDM2ODg0ZTMzOGE3YmFlZDc2MGI2Nzc5OCk7CiAgICAgICAgICAgIAoKICAgICAgICAgICAgY2lyY2xlX21hcmtlcl9kODQyMjVlZjQ0ZGE0OGVhODEzZTgxYjM2MDUyNjRhNC5iaW5kUG9wdXAocG9wdXBfNjYwMWY5YzhhODA5NGIyYmExZGEzZDE4MTc0NDk5MTIpOwoKICAgICAgICAgICAgCiAgICAgICAgCiAgICAKICAgICAgICAgICAgdmFyIGNpcmNsZV9tYXJrZXJfOGE0OTdiNDViNDFhNGM4NzgzMTMxYjczOWJhYTU5MzkgPSBMLmNpcmNsZU1hcmtlcigKICAgICAgICAgICAgICAgIFs0My42NjE2MDgzLC03OS40NjQ3NjMyOTk5OTk5OV0sCiAgICAgICAgICAgICAgICB7CiAgImJ1YmJsaW5nTW91c2VFdmVudHMiOiB0cnVlLAogICJjb2xvciI6ICIjZmZiMzYwIiwKICAiZGFzaEFycmF5IjogbnVsbCwKICAiZGFzaE9mZnNldCI6IG51bGwsCiAgImZpbGwiOiB0cnVlLAogICJmaWxsQ29sb3IiOiAiI2ZmYjM2MCIsCiAgImZpbGxPcGFjaXR5IjogMC43LAogICJmaWxsUnVsZSI6ICJldmVub2RkIiwKICAibGluZUNhcCI6ICJyb3VuZCIsCiAgImxpbmVKb2luIjogInJvdW5kIiwKICAib3BhY2l0eSI6IDEuMCwKICAicmFkaXVzIjogNSwKICAic3Ryb2tlIjogdHJ1ZSwKICAid2VpZ2h0IjogMwp9CiAgICAgICAgICAgICAgICApLmFkZFRvKG1hcF8wNTM4N2U3YjVmNjY0YzdkYjZhZjRjZTUwMTdiNzkyNCk7CiAgICAgICAgICAgIAogICAgCiAgICAgICAgICAgIHZhciBwb3B1cF84YjU0MGFiYjJmZTE0ZTZlOWUxNTY2Nzc2OTY5MGE3NCA9IEwucG9wdXAoe21heFdpZHRoOiAnMzAwJ30pOwoKICAgICAgICAgICAgCiAgICAgICAgICAgICAgICB2YXIgaHRtbF9mN2E2Y2M4MTkxNDc0MWFhYmZkY2FjMTUwZmNlMjEyZCA9ICQoJzxkaXYgaWQ9Imh0bWxfZjdhNmNjODE5MTQ3NDFhYWJmZGNhYzE1MGZjZTIxMmQiIHN0eWxlPSJ3aWR0aDogMTAwLjAlOyBoZWlnaHQ6IDEwMC4wJTsiPkhpZ2ggUGFyayAsICBUaGUgSnVuY3Rpb24gU291dGggQ2x1c3RlciA0PC9kaXY+JylbMF07CiAgICAgICAgICAgICAgICBwb3B1cF84YjU0MGFiYjJmZTE0ZTZlOWUxNTY2Nzc2OTY5MGE3NC5zZXRDb250ZW50KGh0bWxfZjdhNmNjODE5MTQ3NDFhYWJmZGNhYzE1MGZjZTIxMmQpOwogICAgICAgICAgICAKCiAgICAgICAgICAgIGNpcmNsZV9tYXJrZXJfOGE0OTdiNDViNDFhNGM4NzgzMTMxYjczOWJhYTU5MzkuYmluZFBvcHVwKHBvcHVwXzhiNTQwYWJiMmZlMTRlNmU5ZTE1NjY3NzY5NjkwYTc0KTsKCiAgICAgICAgICAgIAogICAgICAgIAogICAgCiAgICAgICAgICAgIHZhciBjaXJjbGVfbWFya2VyXzcyMDdmM2NjZjY4MjQ2ZDFhNmY5YTU1NjU4YjhmNjgxID0gTC5jaXJjbGVNYXJrZXIoCiAgICAgICAgICAgICAgICBbNDMuNzE1MzgzNCwtNzkuNDA1Njc4NDAwMDAwMDFdLAogICAgICAgICAgICAgICAgewogICJidWJibGluZ01vdXNlRXZlbnRzIjogdHJ1ZSwKICAiY29sb3IiOiAiI2ZmYjM2MCIsCiAgImRhc2hBcnJheSI6IG51bGwsCiAgImRhc2hPZmZzZXQiOiBudWxsLAogICJmaWxsIjogdHJ1ZSwKICAiZmlsbENvbG9yIjogIiNmZmIzNjAiLAogICJmaWxsT3BhY2l0eSI6IDAuNywKICAiZmlsbFJ1bGUiOiAiZXZlbm9kZCIsCiAgImxpbmVDYXAiOiAicm91bmQiLAogICJsaW5lSm9pbiI6ICJyb3VuZCIsCiAgIm9wYWNpdHkiOiAxLjAsCiAgInJhZGl1cyI6IDUsCiAgInN0cm9rZSI6IHRydWUsCiAgIndlaWdodCI6IDMKfQogICAgICAgICAgICAgICAgKS5hZGRUbyhtYXBfMDUzODdlN2I1ZjY2NGM3ZGI2YWY0Y2U1MDE3Yjc5MjQpOwogICAgICAgICAgICAKICAgIAogICAgICAgICAgICB2YXIgcG9wdXBfOGQ5MDFjNTExN2Y2NGJjNTg5YjM4NGFlMjA1ZDA1MTcgPSBMLnBvcHVwKHttYXhXaWR0aDogJzMwMCd9KTsKCiAgICAgICAgICAgIAogICAgICAgICAgICAgICAgdmFyIGh0bWxfZWE2OGFkNjc1NzhhNDM3N2I5NzA0ZTUwYWUwOWNiYWUgPSAkKCc8ZGl2IGlkPSJodG1sX2VhNjhhZDY3NTc4YTQzNzdiOTcwNGU1MGFlMDljYmFlIiBzdHlsZT0id2lkdGg6IDEwMC4wJTsgaGVpZ2h0OiAxMDAuMCU7Ij5Ob3J0aCBUb3JvbnRvIFdlc3QgQ2x1c3RlciA0PC9kaXY+JylbMF07CiAgICAgICAgICAgICAgICBwb3B1cF84ZDkwMWM1MTE3ZjY0YmM1ODliMzg0YWUyMDVkMDUxNy5zZXRDb250ZW50KGh0bWxfZWE2OGFkNjc1NzhhNDM3N2I5NzA0ZTUwYWUwOWNiYWUpOwogICAgICAgICAgICAKCiAgICAgICAgICAgIGNpcmNsZV9tYXJrZXJfNzIwN2YzY2NmNjgyNDZkMWE2ZjlhNTU2NThiOGY2ODEuYmluZFBvcHVwKHBvcHVwXzhkOTAxYzUxMTdmNjRiYzU4OWIzODRhZTIwNWQwNTE3KTsKCiAgICAgICAgICAgIAogICAgICAgIAogICAgCiAgICAgICAgICAgIHZhciBjaXJjbGVfbWFya2VyXzE3Y2JhZjI2MTk4NjQ5MzM5N2QyNTI0ODJlNTBjYzRlID0gTC5jaXJjbGVNYXJrZXIoCiAgICAgICAgICAgICAgICBbNDMuNjcyNzA5NywtNzkuNDA1Njc4NDAwMDAwMDFdLAogICAgICAgICAgICAgICAgewogICJidWJibGluZ01vdXNlRXZlbnRzIjogdHJ1ZSwKICAiY29sb3IiOiAiI2ZmYjM2MCIsCiAgImRhc2hBcnJheSI6IG51bGwsCiAgImRhc2hPZmZzZXQiOiBudWxsLAogICJmaWxsIjogdHJ1ZSwKICAiZmlsbENvbG9yIjogIiNmZmIzNjAiLAogICJmaWxsT3BhY2l0eSI6IDAuNywKICAiZmlsbFJ1bGUiOiAiZXZlbm9kZCIsCiAgImxpbmVDYXAiOiAicm91bmQiLAogICJsaW5lSm9pbiI6ICJyb3VuZCIsCiAgIm9wYWNpdHkiOiAxLjAsCiAgInJhZGl1cyI6IDUsCiAgInN0cm9rZSI6IHRydWUsCiAgIndlaWdodCI6IDMKfQogICAgICAgICAgICAgICAgKS5hZGRUbyhtYXBfMDUzODdlN2I1ZjY2NGM3ZGI2YWY0Y2U1MDE3Yjc5MjQpOwogICAgICAgICAgICAKICAgIAogICAgICAgICAgICB2YXIgcG9wdXBfMTZjNjgyNmFmMWNjNGU3ZGI0ZjUwNTE4OGYxMjE0Y2IgPSBMLnBvcHVwKHttYXhXaWR0aDogJzMwMCd9KTsKCiAgICAgICAgICAgIAogICAgICAgICAgICAgICAgdmFyIGh0bWxfMzAwZmQ2YTAzMjYzNGQ1M2E4MDIxZTFjMjI5Y2RkZWQgPSAkKCc8ZGl2IGlkPSJodG1sXzMwMGZkNmEwMzI2MzRkNTNhODAyMWUxYzIyOWNkZGVkIiBzdHlsZT0id2lkdGg6IDEwMC4wJTsgaGVpZ2h0OiAxMDAuMCU7Ij5UaGUgQW5uZXggLCAgTm9ydGggTWlkdG93biAsICBZb3JrdmlsbGUgQ2x1c3RlciA0PC9kaXY+JylbMF07CiAgICAgICAgICAgICAgICBwb3B1cF8xNmM2ODI2YWYxY2M0ZTdkYjRmNTA1MTg4ZjEyMTRjYi5zZXRDb250ZW50KGh0bWxfMzAwZmQ2YTAzMjYzNGQ1M2E4MDIxZTFjMjI5Y2RkZWQpOwogICAgICAgICAgICAKCiAgICAgICAgICAgIGNpcmNsZV9tYXJrZXJfMTdjYmFmMjYxOTg2NDkzMzk3ZDI1MjQ4MmU1MGNjNGUuYmluZFBvcHVwKHBvcHVwXzE2YzY4MjZhZjFjYzRlN2RiNGY1MDUxODhmMTIxNGNiKTsKCiAgICAgICAgICAgIAogICAgICAgIAogICAgCiAgICAgICAgICAgIHZhciBjaXJjbGVfbWFya2VyX2EwOGEwMGRmZjdmYjQ1Njc5MTZiNDJhNDZiMzEyNGE3ID0gTC5jaXJjbGVNYXJrZXIoCiAgICAgICAgICAgICAgICBbNDMuNjQ4OTU5NywtNzkuNDU2MzI1XSwKICAgICAgICAgICAgICAgIHsKICAiYnViYmxpbmdNb3VzZUV2ZW50cyI6IHRydWUsCiAgImNvbG9yIjogIiNmZmIzNjAiLAogICJkYXNoQXJyYXkiOiBudWxsLAogICJkYXNoT2Zmc2V0IjogbnVsbCwKICAiZmlsbCI6IHRydWUsCiAgImZpbGxDb2xvciI6ICIjZmZiMzYwIiwKICAiZmlsbE9wYWNpdHkiOiAwLjcsCiAgImZpbGxSdWxlIjogImV2ZW5vZGQiLAogICJsaW5lQ2FwIjogInJvdW5kIiwKICAibGluZUpvaW4iOiAicm91bmQiLAogICJvcGFjaXR5IjogMS4wLAogICJyYWRpdXMiOiA1LAogICJzdHJva2UiOiB0cnVlLAogICJ3ZWlnaHQiOiAzCn0KICAgICAgICAgICAgICAgICkuYWRkVG8obWFwXzA1Mzg3ZTdiNWY2NjRjN2RiNmFmNGNlNTAxN2I3OTI0KTsKICAgICAgICAgICAgCiAgICAKICAgICAgICAgICAgdmFyIHBvcHVwX2ZmNDAyOTJiODhmMDQwNjBiMTZkYTFlNzdjMzk1YzNhID0gTC5wb3B1cCh7bWF4V2lkdGg6ICczMDAnfSk7CgogICAgICAgICAgICAKICAgICAgICAgICAgICAgIHZhciBodG1sXzRjODg4MTYyNjk1ZjQxZTY5NTI0MWFiNDU2MThiZTA3ID0gJCgnPGRpdiBpZD0iaHRtbF80Yzg4ODE2MjY5NWY0MWU2OTUyNDFhYjQ1NjE4YmUwNyIgc3R5bGU9IndpZHRoOiAxMDAuMCU7IGhlaWdodDogMTAwLjAlOyI+UGFya2RhbGUgLCAgUm9uY2VzdmFsbGVzIENsdXN0ZXIgNDwvZGl2PicpWzBdOwogICAgICAgICAgICAgICAgcG9wdXBfZmY0MDI5MmI4OGYwNDA2MGIxNmRhMWU3N2MzOTVjM2Euc2V0Q29udGVudChodG1sXzRjODg4MTYyNjk1ZjQxZTY5NTI0MWFiNDU2MThiZTA3KTsKICAgICAgICAgICAgCgogICAgICAgICAgICBjaXJjbGVfbWFya2VyX2EwOGEwMGRmZjdmYjQ1Njc5MTZiNDJhNDZiMzEyNGE3LmJpbmRQb3B1cChwb3B1cF9mZjQwMjkyYjg4ZjA0MDYwYjE2ZGExZTc3YzM5NWMzYSk7CgogICAgICAgICAgICAKICAgICAgICAKICAgIAogICAgICAgICAgICB2YXIgY2lyY2xlX21hcmtlcl9jNDY4N2Q3OTM3ZGM0Y2U5OGM5MmQ5MzFiMzA0ODEyYyA9IEwuY2lyY2xlTWFya2VyKAogICAgICAgICAgICAgICAgWzQzLjcwNDMyNDQsLTc5LjM4ODc5MDFdLAogICAgICAgICAgICAgICAgewogICJidWJibGluZ01vdXNlRXZlbnRzIjogdHJ1ZSwKICAiY29sb3IiOiAiIzAwYjVlYiIsCiAgImRhc2hBcnJheSI6IG51bGwsCiAgImRhc2hPZmZzZXQiOiBudWxsLAogICJmaWxsIjogdHJ1ZSwKICAiZmlsbENvbG9yIjogIiMwMGI1ZWIiLAogICJmaWxsT3BhY2l0eSI6IDAuNywKICAiZmlsbFJ1bGUiOiAiZXZlbm9kZCIsCiAgImxpbmVDYXAiOiAicm91bmQiLAogICJsaW5lSm9pbiI6ICJyb3VuZCIsCiAgIm9wYWNpdHkiOiAxLjAsCiAgInJhZGl1cyI6IDUsCiAgInN0cm9rZSI6IHRydWUsCiAgIndlaWdodCI6IDMKfQogICAgICAgICAgICAgICAgKS5hZGRUbyhtYXBfMDUzODdlN2I1ZjY2NGM3ZGI2YWY0Y2U1MDE3Yjc5MjQpOwogICAgICAgICAgICAKICAgIAogICAgICAgICAgICB2YXIgcG9wdXBfOTRiNjM4Y2IyNzg5NGExODhiODI0NDQzNWIzY2QyMjAgPSBMLnBvcHVwKHttYXhXaWR0aDogJzMwMCd9KTsKCiAgICAgICAgICAgIAogICAgICAgICAgICAgICAgdmFyIGh0bWxfY2ExNTc4MDFkMWQ2NDEzZmFkZTI2ZTM1YmZjOGE3ODEgPSAkKCc8ZGl2IGlkPSJodG1sX2NhMTU3ODAxZDFkNjQxM2ZhZGUyNmUzNWJmYzhhNzgxIiBzdHlsZT0id2lkdGg6IDEwMC4wJTsgaGVpZ2h0OiAxMDAuMCU7Ij5EYXZpc3ZpbGxlIENsdXN0ZXIgMjwvZGl2PicpWzBdOwogICAgICAgICAgICAgICAgcG9wdXBfOTRiNjM4Y2IyNzg5NGExODhiODI0NDQzNWIzY2QyMjAuc2V0Q29udGVudChodG1sX2NhMTU3ODAxZDFkNjQxM2ZhZGUyNmUzNWJmYzhhNzgxKTsKICAgICAgICAgICAgCgogICAgICAgICAgICBjaXJjbGVfbWFya2VyX2M0Njg3ZDc5MzdkYzRjZTk4YzkyZDkzMWIzMDQ4MTJjLmJpbmRQb3B1cChwb3B1cF85NGI2MzhjYjI3ODk0YTE4OGI4MjQ0NDM1YjNjZDIyMCk7CgogICAgICAgICAgICAKICAgICAgICAKICAgIAogICAgICAgICAgICB2YXIgY2lyY2xlX21hcmtlcl82MzNiNTMzM2I1M2U0ODQzYTVlODg4MzgzODdmYjUzNiA9IEwuY2lyY2xlTWFya2VyKAogICAgICAgICAgICAgICAgWzQzLjY2MjY5NTYsLTc5LjQwMDA0OTNdLAogICAgICAgICAgICAgICAgewogICJidWJibGluZ01vdXNlRXZlbnRzIjogdHJ1ZSwKICAiY29sb3IiOiAiIzgwMDBmZiIsCiAgImRhc2hBcnJheSI6IG51bGwsCiAgImRhc2hPZmZzZXQiOiBudWxsLAogICJmaWxsIjogdHJ1ZSwKICAiZmlsbENvbG9yIjogIiM4MDAwZmYiLAogICJmaWxsT3BhY2l0eSI6IDAuNywKICAiZmlsbFJ1bGUiOiAiZXZlbm9kZCIsCiAgImxpbmVDYXAiOiAicm91bmQiLAogICJsaW5lSm9pbiI6ICJyb3VuZCIsCiAgIm9wYWNpdHkiOiAxLjAsCiAgInJhZGl1cyI6IDUsCiAgInN0cm9rZSI6IHRydWUsCiAgIndlaWdodCI6IDMKfQogICAgICAgICAgICAgICAgKS5hZGRUbyhtYXBfMDUzODdlN2I1ZjY2NGM3ZGI2YWY0Y2U1MDE3Yjc5MjQpOwogICAgICAgICAgICAKICAgIAogICAgICAgICAgICB2YXIgcG9wdXBfOGQyYmVhYWY0MTQ1NDk1MGJiY2RmOGU5N2U1MTc2NzEgPSBMLnBvcHVwKHttYXhXaWR0aDogJzMwMCd9KTsKCiAgICAgICAgICAgIAogICAgICAgICAgICAgICAgdmFyIGh0bWxfYWUxNTVmOGZkNDk5NDlmZDk0MWNhY2NjOTZhYTVmZmIgPSAkKCc8ZGl2IGlkPSJodG1sX2FlMTU1ZjhmZDQ5OTQ5ZmQ5NDFjYWNjYzk2YWE1ZmZiIiBzdHlsZT0id2lkdGg6IDEwMC4wJTsgaGVpZ2h0OiAxMDAuMCU7Ij5Vbml2ZXJzaXR5IG9mIFRvcm9udG8gLCAgSGFyYm9yZCBDbHVzdGVyIDE8L2Rpdj4nKVswXTsKICAgICAgICAgICAgICAgIHBvcHVwXzhkMmJlYWFmNDE0NTQ5NTBiYmNkZjhlOTdlNTE3NjcxLnNldENvbnRlbnQoaHRtbF9hZTE1NWY4ZmQ0OTk0OWZkOTQxY2FjY2M5NmFhNWZmYik7CiAgICAgICAgICAgIAoKICAgICAgICAgICAgY2lyY2xlX21hcmtlcl82MzNiNTMzM2I1M2U0ODQzYTVlODg4MzgzODdmYjUzNi5iaW5kUG9wdXAocG9wdXBfOGQyYmVhYWY0MTQ1NDk1MGJiY2RmOGU5N2U1MTc2NzEpOwoKICAgICAgICAgICAgCiAgICAgICAgCiAgICAKICAgICAgICAgICAgdmFyIGNpcmNsZV9tYXJrZXJfZGEyNjIwZDQyNTc5NDc5ZmFkZmM1OWQ2MTY2YjRhNDAgPSBMLmNpcmNsZU1hcmtlcigKICAgICAgICAgICAgICAgIFs0My42NTE1NzA2LC03OS40ODQ0NDk5XSwKICAgICAgICAgICAgICAgIHsKICAiYnViYmxpbmdNb3VzZUV2ZW50cyI6IHRydWUsCiAgImNvbG9yIjogIiNmZmIzNjAiLAogICJkYXNoQXJyYXkiOiBudWxsLAogICJkYXNoT2Zmc2V0IjogbnVsbCwKICAiZmlsbCI6IHRydWUsCiAgImZpbGxDb2xvciI6ICIjZmZiMzYwIiwKICAiZmlsbE9wYWNpdHkiOiAwLjcsCiAgImZpbGxSdWxlIjogImV2ZW5vZGQiLAogICJsaW5lQ2FwIjogInJvdW5kIiwKICAibGluZUpvaW4iOiAicm91bmQiLAogICJvcGFjaXR5IjogMS4wLAogICJyYWRpdXMiOiA1LAogICJzdHJva2UiOiB0cnVlLAogICJ3ZWlnaHQiOiAzCn0KICAgICAgICAgICAgICAgICkuYWRkVG8obWFwXzA1Mzg3ZTdiNWY2NjRjN2RiNmFmNGNlNTAxN2I3OTI0KTsKICAgICAgICAgICAgCiAgICAKICAgICAgICAgICAgdmFyIHBvcHVwX2QyOTYzZjA1ZGViZDRhZDU4OWI4NTE5NGUxZWNlZDg5ID0gTC5wb3B1cCh7bWF4V2lkdGg6ICczMDAnfSk7CgogICAgICAgICAgICAKICAgICAgICAgICAgICAgIHZhciBodG1sXzRmNjJhZTNiNjRkNzRlM2RhOTgyNzVhNWEwOTRjYzc5ID0gJCgnPGRpdiBpZD0iaHRtbF80ZjYyYWUzYjY0ZDc0ZTNkYTk4Mjc1YTVhMDk0Y2M3OSIgc3R5bGU9IndpZHRoOiAxMDAuMCU7IGhlaWdodDogMTAwLjAlOyI+UnVubnltZWRlICwgIFN3YW5zZWEgQ2x1c3RlciA0PC9kaXY+JylbMF07CiAgICAgICAgICAgICAgICBwb3B1cF9kMjk2M2YwNWRlYmQ0YWQ1ODliODUxOTRlMWVjZWQ4OS5zZXRDb250ZW50KGh0bWxfNGY2MmFlM2I2NGQ3NGUzZGE5ODI3NWE1YTA5NGNjNzkpOwogICAgICAgICAgICAKCiAgICAgICAgICAgIGNpcmNsZV9tYXJrZXJfZGEyNjIwZDQyNTc5NDc5ZmFkZmM1OWQ2MTY2YjRhNDAuYmluZFBvcHVwKHBvcHVwX2QyOTYzZjA1ZGViZDRhZDU4OWI4NTE5NGUxZWNlZDg5KTsKCiAgICAgICAgICAgIAogICAgICAgIAogICAgCiAgICAgICAgICAgIHZhciBjaXJjbGVfbWFya2VyXzg1YmNkOWVmMzQ4MDRlMzhiN2VhMTU2Y2VlYTg5N2Y4ID0gTC5jaXJjbGVNYXJrZXIoCiAgICAgICAgICAgICAgICBbNDMuNjg5NTc0MywtNzkuMzgzMTU5OTAwMDAwMDFdLAogICAgICAgICAgICAgICAgewogICJidWJibGluZ01vdXNlRXZlbnRzIjogdHJ1ZSwKICAiY29sb3IiOiAiI2ZmYjM2MCIsCiAgImRhc2hBcnJheSI6IG51bGwsCiAgImRhc2hPZmZzZXQiOiBudWxsLAogICJmaWxsIjogdHJ1ZSwKICAiZmlsbENvbG9yIjogIiNmZmIzNjAiLAogICJmaWxsT3BhY2l0eSI6IDAuNywKICAiZmlsbFJ1bGUiOiAiZXZlbm9kZCIsCiAgImxpbmVDYXAiOiAicm91bmQiLAogICJsaW5lSm9pbiI6ICJyb3VuZCIsCiAgIm9wYWNpdHkiOiAxLjAsCiAgInJhZGl1cyI6IDUsCiAgInN0cm9rZSI6IHRydWUsCiAgIndlaWdodCI6IDMKfQogICAgICAgICAgICAgICAgKS5hZGRUbyhtYXBfMDUzODdlN2I1ZjY2NGM3ZGI2YWY0Y2U1MDE3Yjc5MjQpOwogICAgICAgICAgICAKICAgIAogICAgICAgICAgICB2YXIgcG9wdXBfNmZjYWYxODJmY2E5NDI4ZmE5MTE1MmE2OTM0YTRhYmEgPSBMLnBvcHVwKHttYXhXaWR0aDogJzMwMCd9KTsKCiAgICAgICAgICAgIAogICAgICAgICAgICAgICAgdmFyIGh0bWxfNjVmYTc3OWQ0NDZkNDg5MGI1ODcwNWI1NTAxMjQ5N2UgPSAkKCc8ZGl2IGlkPSJodG1sXzY1ZmE3NzlkNDQ2ZDQ4OTBiNTg3MDViNTUwMTI0OTdlIiBzdHlsZT0id2lkdGg6IDEwMC4wJTsgaGVpZ2h0OiAxMDAuMCU7Ij5Nb29yZSBQYXJrICwgIFN1bW1lcmhpbGwgRWFzdCBDbHVzdGVyIDQ8L2Rpdj4nKVswXTsKICAgICAgICAgICAgICAgIHBvcHVwXzZmY2FmMTgyZmNhOTQyOGZhOTExNTJhNjkzNGE0YWJhLnNldENvbnRlbnQoaHRtbF82NWZhNzc5ZDQ0NmQ0ODkwYjU4NzA1YjU1MDEyNDk3ZSk7CiAgICAgICAgICAgIAoKICAgICAgICAgICAgY2lyY2xlX21hcmtlcl84NWJjZDllZjM0ODA0ZTM4YjdlYTE1NmNlZWE4OTdmOC5iaW5kUG9wdXAocG9wdXBfNmZjYWYxODJmY2E5NDI4ZmE5MTE1MmE2OTM0YTRhYmEpOwoKICAgICAgICAgICAgCiAgICAgICAgCiAgICAKICAgICAgICAgICAgdmFyIGNpcmNsZV9tYXJrZXJfNmExNDY3NjgzOGM2NGM4NTg1NWIwODcyMWEzNGJiNDMgPSBMLmNpcmNsZU1hcmtlcigKICAgICAgICAgICAgICAgIFs0My42NTMyMDU3LC03OS40MDAwNDkzXSwKICAgICAgICAgICAgICAgIHsKICAiYnViYmxpbmdNb3VzZUV2ZW50cyI6IHRydWUsCiAgImNvbG9yIjogIiNmZmIzNjAiLAogICJkYXNoQXJyYXkiOiBudWxsLAogICJkYXNoT2Zmc2V0IjogbnVsbCwKICAiZmlsbCI6IHRydWUsCiAgImZpbGxDb2xvciI6ICIjZmZiMzYwIiwKICAiZmlsbE9wYWNpdHkiOiAwLjcsCiAgImZpbGxSdWxlIjogImV2ZW5vZGQiLAogICJsaW5lQ2FwIjogInJvdW5kIiwKICAibGluZUpvaW4iOiAicm91bmQiLAogICJvcGFjaXR5IjogMS4wLAogICJyYWRpdXMiOiA1LAogICJzdHJva2UiOiB0cnVlLAogICJ3ZWlnaHQiOiAzCn0KICAgICAgICAgICAgICAgICkuYWRkVG8obWFwXzA1Mzg3ZTdiNWY2NjRjN2RiNmFmNGNlNTAxN2I3OTI0KTsKICAgICAgICAgICAgCiAgICAKICAgICAgICAgICAgdmFyIHBvcHVwXzg4MjA5MjNiMmFkNDRlMGVhYzA5NDEyMGEyNjlmZWYwID0gTC5wb3B1cCh7bWF4V2lkdGg6ICczMDAnfSk7CgogICAgICAgICAgICAKICAgICAgICAgICAgICAgIHZhciBodG1sX2M5YTk0MTA2YTFiODRlMjg5ODBlMWI2YjRlY2U0ODczID0gJCgnPGRpdiBpZD0iaHRtbF9jOWE5NDEwNmExYjg0ZTI4OTgwZTFiNmI0ZWNlNDg3MyIgc3R5bGU9IndpZHRoOiAxMDAuMCU7IGhlaWdodDogMTAwLjAlOyI+S2Vuc2luZ3RvbiBNYXJrZXQgLCAgQ2hpbmF0b3duICwgIEdyYW5nZSBQYXJrIENsdXN0ZXIgNDwvZGl2PicpWzBdOwogICAgICAgICAgICAgICAgcG9wdXBfODgyMDkyM2IyYWQ0NGUwZWFjMDk0MTIwYTI2OWZlZjAuc2V0Q29udGVudChodG1sX2M5YTk0MTA2YTFiODRlMjg5ODBlMWI2YjRlY2U0ODczKTsKICAgICAgICAgICAgCgogICAgICAgICAgICBjaXJjbGVfbWFya2VyXzZhMTQ2NzY4MzhjNjRjODU4NTViMDg3MjFhMzRiYjQzLmJpbmRQb3B1cChwb3B1cF84ODIwOTIzYjJhZDQ0ZTBlYWMwOTQxMjBhMjY5ZmVmMCk7CgogICAgICAgICAgICAKICAgICAgICAKICAgIAogICAgICAgICAgICB2YXIgY2lyY2xlX21hcmtlcl9mZTVjZTMxZDRkY2Y0MTU3YTVjM2ZmOWRhZTQ1NzVlZSA9IEwuY2lyY2xlTWFya2VyKAogICAgICAgICAgICAgICAgWzQzLjY4NjQxMjI5OTk5OTk5LC03OS40MDAwNDkzXSwKICAgICAgICAgICAgICAgIHsKICAiYnViYmxpbmdNb3VzZUV2ZW50cyI6IHRydWUsCiAgImNvbG9yIjogIiNmZmIzNjAiLAogICJkYXNoQXJyYXkiOiBudWxsLAogICJkYXNoT2Zmc2V0IjogbnVsbCwKICAiZmlsbCI6IHRydWUsCiAgImZpbGxDb2xvciI6ICIjZmZiMzYwIiwKICAiZmlsbE9wYWNpdHkiOiAwLjcsCiAgImZpbGxSdWxlIjogImV2ZW5vZGQiLAogICJsaW5lQ2FwIjogInJvdW5kIiwKICAibGluZUpvaW4iOiAicm91bmQiLAogICJvcGFjaXR5IjogMS4wLAogICJyYWRpdXMiOiA1LAogICJzdHJva2UiOiB0cnVlLAogICJ3ZWlnaHQiOiAzCn0KICAgICAgICAgICAgICAgICkuYWRkVG8obWFwXzA1Mzg3ZTdiNWY2NjRjN2RiNmFmNGNlNTAxN2I3OTI0KTsKICAgICAgICAgICAgCiAgICAKICAgICAgICAgICAgdmFyIHBvcHVwXzdkMzA2YWNiOWU4MzQwNDE5YmY5MTc2ODE3ZWEwZmY2ID0gTC5wb3B1cCh7bWF4V2lkdGg6ICczMDAnfSk7CgogICAgICAgICAgICAKICAgICAgICAgICAgICAgIHZhciBodG1sXzlhZGVkMGY5ZTllYzRlYmY5NjAwZmIwOTJjMTE5YjRlID0gJCgnPGRpdiBpZD0iaHRtbF85YWRlZDBmOWU5ZWM0ZWJmOTYwMGZiMDkyYzExOWI0ZSIgc3R5bGU9IndpZHRoOiAxMDAuMCU7IGhlaWdodDogMTAwLjAlOyI+U3VtbWVyaGlsbCBXZXN0ICwgIFJhdGhuZWxseSAsICBTb3V0aCBIaWxsICwgIEZvcmVzdCBIaWxsIFNFICwgIERlZXIgUGFyayBDbHVzdGVyIDQ8L2Rpdj4nKVswXTsKICAgICAgICAgICAgICAgIHBvcHVwXzdkMzA2YWNiOWU4MzQwNDE5YmY5MTc2ODE3ZWEwZmY2LnNldENvbnRlbnQoaHRtbF85YWRlZDBmOWU5ZWM0ZWJmOTYwMGZiMDkyYzExOWI0ZSk7CiAgICAgICAgICAgIAoKICAgICAgICAgICAgY2lyY2xlX21hcmtlcl9mZTVjZTMxZDRkY2Y0MTU3YTVjM2ZmOWRhZTQ1NzVlZS5iaW5kUG9wdXAocG9wdXBfN2QzMDZhY2I5ZTgzNDA0MTliZjkxNzY4MTdlYTBmZjYpOwoKICAgICAgICAgICAgCiAgICAgICAgCiAgICAKICAgICAgICAgICAgdmFyIGNpcmNsZV9tYXJrZXJfOWRjZTEzZWYyNmVhNGFhNzk3ODhlMDYyNmRjOGYyYjcgPSBMLmNpcmNsZU1hcmtlcigKICAgICAgICAgICAgICAgIFs0My42Mjg5NDY3LC03OS4zOTQ0MTk5XSwKICAgICAgICAgICAgICAgIHsKICAiYnViYmxpbmdNb3VzZUV2ZW50cyI6IHRydWUsCiAgImNvbG9yIjogIiNmZjAwMDAiLAogICJkYXNoQXJyYXkiOiBudWxsLAogICJkYXNoT2Zmc2V0IjogbnVsbCwKICAiZmlsbCI6IHRydWUsCiAgImZpbGxDb2xvciI6ICIjZmYwMDAwIiwKICAiZmlsbE9wYWNpdHkiOiAwLjcsCiAgImZpbGxSdWxlIjogImV2ZW5vZGQiLAogICJsaW5lQ2FwIjogInJvdW5kIiwKICAibGluZUpvaW4iOiAicm91bmQiLAogICJvcGFjaXR5IjogMS4wLAogICJyYWRpdXMiOiA1LAogICJzdHJva2UiOiB0cnVlLAogICJ3ZWlnaHQiOiAzCn0KICAgICAgICAgICAgICAgICkuYWRkVG8obWFwXzA1Mzg3ZTdiNWY2NjRjN2RiNmFmNGNlNTAxN2I3OTI0KTsKICAgICAgICAgICAgCiAgICAKICAgICAgICAgICAgdmFyIHBvcHVwX2QxMTBkODU0NTFjNDRjZmFiODRkNjBlZGNmMDA1ZGIxID0gTC5wb3B1cCh7bWF4V2lkdGg6ICczMDAnfSk7CgogICAgICAgICAgICAKICAgICAgICAgICAgICAgIHZhciBodG1sXzA1N2Y2NzY0NDc4ZTRkYjRiZTZlMWZlNjE5OWUzODVkID0gJCgnPGRpdiBpZD0iaHRtbF8wNTdmNjc2NDQ3OGU0ZGI0YmU2ZTFmZTYxOTllMzg1ZCIgc3R5bGU9IndpZHRoOiAxMDAuMCU7IGhlaWdodDogMTAwLjAlOyI+Q04gVG93ZXIgLCAgS2luZyBhbmQgU3BhZGluYSAsICBSYWlsd2F5IExhbmRzICwgIEhhcmJvdXJmcm9udCBXZXN0ICwgIEJhdGh1cnN0ICBRdWF5ICwgIFNvdXRoIE5pYWdhcmEgLCAgSXNsYW5kIGFpcnBvcnQgQ2x1c3RlciAwPC9kaXY+JylbMF07CiAgICAgICAgICAgICAgICBwb3B1cF9kMTEwZDg1NDUxYzQ0Y2ZhYjg0ZDYwZWRjZjAwNWRiMS5zZXRDb250ZW50KGh0bWxfMDU3ZjY3NjQ0NzhlNGRiNGJlNmUxZmU2MTk5ZTM4NWQpOwogICAgICAgICAgICAKCiAgICAgICAgICAgIGNpcmNsZV9tYXJrZXJfOWRjZTEzZWYyNmVhNGFhNzk3ODhlMDYyNmRjOGYyYjcuYmluZFBvcHVwKHBvcHVwX2QxMTBkODU0NTFjNDRjZmFiODRkNjBlZGNmMDA1ZGIxKTsKCiAgICAgICAgICAgIAogICAgICAgIAogICAgCiAgICAgICAgICAgIHZhciBjaXJjbGVfbWFya2VyXzZhNWExYjVkMWM5YjQ0YjY4OGQ2ZTk0NjAzMTBhYjJkID0gTC5jaXJjbGVNYXJrZXIoCiAgICAgICAgICAgICAgICBbNDMuNjc5NTYyNiwtNzkuMzc3NTI5NDAwMDAwMDFdLAogICAgICAgICAgICAgICAgewogICJidWJibGluZ01vdXNlRXZlbnRzIjogdHJ1ZSwKICAiY29sb3IiOiAiI2ZmYjM2MCIsCiAgImRhc2hBcnJheSI6IG51bGwsCiAgImRhc2hPZmZzZXQiOiBudWxsLAogICJmaWxsIjogdHJ1ZSwKICAiZmlsbENvbG9yIjogIiNmZmIzNjAiLAogICJmaWxsT3BhY2l0eSI6IDAuNywKICAiZmlsbFJ1bGUiOiAiZXZlbm9kZCIsCiAgImxpbmVDYXAiOiAicm91bmQiLAogICJsaW5lSm9pbiI6ICJyb3VuZCIsCiAgIm9wYWNpdHkiOiAxLjAsCiAgInJhZGl1cyI6IDUsCiAgInN0cm9rZSI6IHRydWUsCiAgIndlaWdodCI6IDMKfQogICAgICAgICAgICAgICAgKS5hZGRUbyhtYXBfMDUzODdlN2I1ZjY2NGM3ZGI2YWY0Y2U1MDE3Yjc5MjQpOwogICAgICAgICAgICAKICAgIAogICAgICAgICAgICB2YXIgcG9wdXBfYzFkODVjN2VhMjZkNDBlNzlkY2ZiMDBlZmRiYzRhM2MgPSBMLnBvcHVwKHttYXhXaWR0aDogJzMwMCd9KTsKCiAgICAgICAgICAgIAogICAgICAgICAgICAgICAgdmFyIGh0bWxfYTgyNzU5NTIxMGQ2NDQ2ODg2MDEzYWY2YTEwNzE5ODQgPSAkKCc8ZGl2IGlkPSJodG1sX2E4Mjc1OTUyMTBkNjQ0Njg4NjAxM2FmNmExMDcxOTg0IiBzdHlsZT0id2lkdGg6IDEwMC4wJTsgaGVpZ2h0OiAxMDAuMCU7Ij5Sb3NlZGFsZSBDbHVzdGVyIDQ8L2Rpdj4nKVswXTsKICAgICAgICAgICAgICAgIHBvcHVwX2MxZDg1YzdlYTI2ZDQwZTc5ZGNmYjAwZWZkYmM0YTNjLnNldENvbnRlbnQoaHRtbF9hODI3NTk1MjEwZDY0NDY4ODYwMTNhZjZhMTA3MTk4NCk7CiAgICAgICAgICAgIAoKICAgICAgICAgICAgY2lyY2xlX21hcmtlcl82YTVhMWI1ZDFjOWI0NGI2ODhkNmU5NDYwMzEwYWIyZC5iaW5kUG9wdXAocG9wdXBfYzFkODVjN2VhMjZkNDBlNzlkY2ZiMDBlZmRiYzRhM2MpOwoKICAgICAgICAgICAgCiAgICAgICAgCiAgICAKICAgICAgICAgICAgdmFyIGNpcmNsZV9tYXJrZXJfMzIzMjQ3ODU5ZmU4NDFjNzllODc5ZDE3MWNmNzAxNjggPSBMLmNpcmNsZU1hcmtlcigKICAgICAgICAgICAgICAgIFs0My42NDY0MzUyLC03OS4zNzQ4NDU5OTk5OTk5OV0sCiAgICAgICAgICAgICAgICB7CiAgImJ1YmJsaW5nTW91c2VFdmVudHMiOiB0cnVlLAogICJjb2xvciI6ICIjZmYwMDAwIiwKICAiZGFzaEFycmF5IjogbnVsbCwKICAiZGFzaE9mZnNldCI6IG51bGwsCiAgImZpbGwiOiB0cnVlLAogICJmaWxsQ29sb3IiOiAiI2ZmMDAwMCIsCiAgImZpbGxPcGFjaXR5IjogMC43LAogICJmaWxsUnVsZSI6ICJldmVub2RkIiwKICAibGluZUNhcCI6ICJyb3VuZCIsCiAgImxpbmVKb2luIjogInJvdW5kIiwKICAib3BhY2l0eSI6IDEuMCwKICAicmFkaXVzIjogNSwKICAic3Ryb2tlIjogdHJ1ZSwKICAid2VpZ2h0IjogMwp9CiAgICAgICAgICAgICAgICApLmFkZFRvKG1hcF8wNTM4N2U3YjVmNjY0YzdkYjZhZjRjZTUwMTdiNzkyNCk7CiAgICAgICAgICAgIAogICAgCiAgICAgICAgICAgIHZhciBwb3B1cF9kMGE3YzkxN2RlMjE0NWE4OWRhNjk0MDJkN2NkMTU0YyA9IEwucG9wdXAoe21heFdpZHRoOiAnMzAwJ30pOwoKICAgICAgICAgICAgCiAgICAgICAgICAgICAgICB2YXIgaHRtbF9hOTk1MTc3ZjcxZGQ0NGZhYWI2NDdkY2EyOThmZjg1YiA9ICQoJzxkaXYgaWQ9Imh0bWxfYTk5NTE3N2Y3MWRkNDRmYWFiNjQ3ZGNhMjk4ZmY4NWIiIHN0eWxlPSJ3aWR0aDogMTAwLjAlOyBoZWlnaHQ6IDEwMC4wJTsiPlN0biBBIFBPIEJveGVzIENsdXN0ZXIgMDwvZGl2PicpWzBdOwogICAgICAgICAgICAgICAgcG9wdXBfZDBhN2M5MTdkZTIxNDVhODlkYTY5NDAyZDdjZDE1NGMuc2V0Q29udGVudChodG1sX2E5OTUxNzdmNzFkZDQ0ZmFhYjY0N2RjYTI5OGZmODViKTsKICAgICAgICAgICAgCgogICAgICAgICAgICBjaXJjbGVfbWFya2VyXzMyMzI0Nzg1OWZlODQxYzc5ZTg3OWQxNzFjZjcwMTY4LmJpbmRQb3B1cChwb3B1cF9kMGE3YzkxN2RlMjE0NWE4OWRhNjk0MDJkN2NkMTU0Yyk7CgogICAgICAgICAgICAKICAgICAgICAKICAgIAogICAgICAgICAgICB2YXIgY2lyY2xlX21hcmtlcl82YzY1MzM5YWEyNDI0MGFiOGY3ZTNlMWVkYzNhZWZkYSA9IEwuY2lyY2xlTWFya2VyKAogICAgICAgICAgICAgICAgWzQzLjY2Nzk2NywtNzkuMzY3Njc1M10sCiAgICAgICAgICAgICAgICB7CiAgImJ1YmJsaW5nTW91c2VFdmVudHMiOiB0cnVlLAogICJjb2xvciI6ICIjZmZiMzYwIiwKICAiZGFzaEFycmF5IjogbnVsbCwKICAiZGFzaE9mZnNldCI6IG51bGwsCiAgImZpbGwiOiB0cnVlLAogICJmaWxsQ29sb3IiOiAiI2ZmYjM2MCIsCiAgImZpbGxPcGFjaXR5IjogMC43LAogICJmaWxsUnVsZSI6ICJldmVub2RkIiwKICAibGluZUNhcCI6ICJyb3VuZCIsCiAgImxpbmVKb2luIjogInJvdW5kIiwKICAib3BhY2l0eSI6IDEuMCwKICAicmFkaXVzIjogNSwKICAic3Ryb2tlIjogdHJ1ZSwKICAid2VpZ2h0IjogMwp9CiAgICAgICAgICAgICAgICApLmFkZFRvKG1hcF8wNTM4N2U3YjVmNjY0YzdkYjZhZjRjZTUwMTdiNzkyNCk7CiAgICAgICAgICAgIAogICAgCiAgICAgICAgICAgIHZhciBwb3B1cF9lMzMyNGY5MjE2NDA0M2Q3OWIzODA1MjVjYjg3ZWVjZSA9IEwucG9wdXAoe21heFdpZHRoOiAnMzAwJ30pOwoKICAgICAgICAgICAgCiAgICAgICAgICAgICAgICB2YXIgaHRtbF80YTM4MWJmYzIxMjY0ZmRiOTRmMDA3YWY3NGNjMDM0YiA9ICQoJzxkaXYgaWQ9Imh0bWxfNGEzODFiZmMyMTI2NGZkYjk0ZjAwN2FmNzRjYzAzNGIiIHN0eWxlPSJ3aWR0aDogMTAwLjAlOyBoZWlnaHQ6IDEwMC4wJTsiPlN0LiBKYW1lcyBUb3duICwgIENhYmJhZ2V0b3duIENsdXN0ZXIgNDwvZGl2PicpWzBdOwogICAgICAgICAgICAgICAgcG9wdXBfZTMzMjRmOTIxNjQwNDNkNzliMzgwNTI1Y2I4N2VlY2Uuc2V0Q29udGVudChodG1sXzRhMzgxYmZjMjEyNjRmZGI5NGYwMDdhZjc0Y2MwMzRiKTsKICAgICAgICAgICAgCgogICAgICAgICAgICBjaXJjbGVfbWFya2VyXzZjNjUzMzlhYTI0MjQwYWI4ZjdlM2UxZWRjM2FlZmRhLmJpbmRQb3B1cChwb3B1cF9lMzMyNGY5MjE2NDA0M2Q3OWIzODA1MjVjYjg3ZWVjZSk7CgogICAgICAgICAgICAKICAgICAgICAKICAgIAogICAgICAgICAgICB2YXIgY2lyY2xlX21hcmtlcl8yMDRkOTM0NWIyOTg0MTlkOGYzODFhYzdjYmY4NWU5MyA9IEwuY2lyY2xlTWFya2VyKAogICAgICAgICAgICAgICAgWzQzLjY0ODQyOTIsLTc5LjM4MjI4MDJdLAogICAgICAgICAgICAgICAgewogICJidWJibGluZ01vdXNlRXZlbnRzIjogdHJ1ZSwKICAiY29sb3IiOiAiI2ZmYjM2MCIsCiAgImRhc2hBcnJheSI6IG51bGwsCiAgImRhc2hPZmZzZXQiOiBudWxsLAogICJmaWxsIjogdHJ1ZSwKICAiZmlsbENvbG9yIjogIiNmZmIzNjAiLAogICJmaWxsT3BhY2l0eSI6IDAuNywKICAiZmlsbFJ1bGUiOiAiZXZlbm9kZCIsCiAgImxpbmVDYXAiOiAicm91bmQiLAogICJsaW5lSm9pbiI6ICJyb3VuZCIsCiAgIm9wYWNpdHkiOiAxLjAsCiAgInJhZGl1cyI6IDUsCiAgInN0cm9rZSI6IHRydWUsCiAgIndlaWdodCI6IDMKfQogICAgICAgICAgICAgICAgKS5hZGRUbyhtYXBfMDUzODdlN2I1ZjY2NGM3ZGI2YWY0Y2U1MDE3Yjc5MjQpOwogICAgICAgICAgICAKICAgIAogICAgICAgICAgICB2YXIgcG9wdXBfNjJiZTQwZmUxNWVjNDFhNTliOGM3M2UyZDJjZTUxYmQgPSBMLnBvcHVwKHttYXhXaWR0aDogJzMwMCd9KTsKCiAgICAgICAgICAgIAogICAgICAgICAgICAgICAgdmFyIGh0bWxfMzYwNWI0NjU3YjUxNDgxOGE5Njg3ZjNjZjU3NGIyM2IgPSAkKCc8ZGl2IGlkPSJodG1sXzM2MDViNDY1N2I1MTQ4MThhOTY4N2YzY2Y1NzRiMjNiIiBzdHlsZT0id2lkdGg6IDEwMC4wJTsgaGVpZ2h0OiAxMDAuMCU7Ij5GaXJzdCBDYW5hZGlhbiBQbGFjZSAsICBVbmRlcmdyb3VuZCBjaXR5IENsdXN0ZXIgNDwvZGl2PicpWzBdOwogICAgICAgICAgICAgICAgcG9wdXBfNjJiZTQwZmUxNWVjNDFhNTliOGM3M2UyZDJjZTUxYmQuc2V0Q29udGVudChodG1sXzM2MDViNDY1N2I1MTQ4MThhOTY4N2YzY2Y1NzRiMjNiKTsKICAgICAgICAgICAgCgogICAgICAgICAgICBjaXJjbGVfbWFya2VyXzIwNGQ5MzQ1YjI5ODQxOWQ4ZjM4MWFjN2NiZjg1ZTkzLmJpbmRQb3B1cChwb3B1cF82MmJlNDBmZTE1ZWM0MWE1OWI4YzczZTJkMmNlNTFiZCk7CgogICAgICAgICAgICAKICAgICAgICAKICAgIAogICAgICAgICAgICB2YXIgY2lyY2xlX21hcmtlcl8xZjA3YWE5ZTA4NTE0N2U0OTQzMjJhZTJhMjExZThkNyA9IEwuY2lyY2xlTWFya2VyKAogICAgICAgICAgICAgICAgWzQzLjY2NTg1OTksLTc5LjM4MzE1OTkwMDAwMDAxXSwKICAgICAgICAgICAgICAgIHsKICAiYnViYmxpbmdNb3VzZUV2ZW50cyI6IHRydWUsCiAgImNvbG9yIjogIiNmZmIzNjAiLAogICJkYXNoQXJyYXkiOiBudWxsLAogICJkYXNoT2Zmc2V0IjogbnVsbCwKICAiZmlsbCI6IHRydWUsCiAgImZpbGxDb2xvciI6ICIjZmZiMzYwIiwKICAiZmlsbE9wYWNpdHkiOiAwLjcsCiAgImZpbGxSdWxlIjogImV2ZW5vZGQiLAogICJsaW5lQ2FwIjogInJvdW5kIiwKICAibGluZUpvaW4iOiAicm91bmQiLAogICJvcGFjaXR5IjogMS4wLAogICJyYWRpdXMiOiA1LAogICJzdHJva2UiOiB0cnVlLAogICJ3ZWlnaHQiOiAzCn0KICAgICAgICAgICAgICAgICkuYWRkVG8obWFwXzA1Mzg3ZTdiNWY2NjRjN2RiNmFmNGNlNTAxN2I3OTI0KTsKICAgICAgICAgICAgCiAgICAKICAgICAgICAgICAgdmFyIHBvcHVwX2UzOTFhNmU4ZTQ4MjQxZGViNjE4Mzk1NzI3NzU1MWNlID0gTC5wb3B1cCh7bWF4V2lkdGg6ICczMDAnfSk7CgogICAgICAgICAgICAKICAgICAgICAgICAgICAgIHZhciBodG1sXzAyMGU5ZWRmZGU5MjQzZGFhZTg0NjNmNTMyOWFmYmYxID0gJCgnPGRpdiBpZD0iaHRtbF8wMjBlOWVkZmRlOTI0M2RhYWU4NDYzZjUzMjlhZmJmMSIgc3R5bGU9IndpZHRoOiAxMDAuMCU7IGhlaWdodDogMTAwLjAlOyI+Q2h1cmNoIGFuZCBXZWxsZXNsZXkgQ2x1c3RlciA0PC9kaXY+JylbMF07CiAgICAgICAgICAgICAgICBwb3B1cF9lMzkxYTZlOGU0ODI0MWRlYjYxODM5NTcyNzc1NTFjZS5zZXRDb250ZW50KGh0bWxfMDIwZTllZGZkZTkyNDNkYWFlODQ2M2Y1MzI5YWZiZjEpOwogICAgICAgICAgICAKCiAgICAgICAgICAgIGNpcmNsZV9tYXJrZXJfMWYwN2FhOWUwODUxNDdlNDk0MzIyYWUyYTIxMWU4ZDcuYmluZFBvcHVwKHBvcHVwX2UzOTFhNmU4ZTQ4MjQxZGViNjE4Mzk1NzI3NzU1MWNlKTsKCiAgICAgICAgICAgIAogICAgICAgIAogICAgCiAgICAgICAgICAgIHZhciBjaXJjbGVfbWFya2VyXzFjMmM0NDRmYTBjYTRiMDFiMDdmNjQyOGE2ODI0OGFmID0gTC5jaXJjbGVNYXJrZXIoCiAgICAgICAgICAgICAgICBbNDMuNjYyNzQzOSwtNzkuMzIxNTU4XSwKICAgICAgICAgICAgICAgIHsKICAiYnViYmxpbmdNb3VzZUV2ZW50cyI6IHRydWUsCiAgImNvbG9yIjogIiNmZjAwMDAiLAogICJkYXNoQXJyYXkiOiBudWxsLAogICJkYXNoT2Zmc2V0IjogbnVsbCwKICAiZmlsbCI6IHRydWUsCiAgImZpbGxDb2xvciI6ICIjZmYwMDAwIiwKICAiZmlsbE9wYWNpdHkiOiAwLjcsCiAgImZpbGxSdWxlIjogImV2ZW5vZGQiLAogICJsaW5lQ2FwIjogInJvdW5kIiwKICAibGluZUpvaW4iOiAicm91bmQiLAogICJvcGFjaXR5IjogMS4wLAogICJyYWRpdXMiOiA1LAogICJzdHJva2UiOiB0cnVlLAogICJ3ZWlnaHQiOiAzCn0KICAgICAgICAgICAgICAgICkuYWRkVG8obWFwXzA1Mzg3ZTdiNWY2NjRjN2RiNmFmNGNlNTAxN2I3OTI0KTsKICAgICAgICAgICAgCiAgICAKICAgICAgICAgICAgdmFyIHBvcHVwXzRjNzQ3YjE2NmExYzQ2OTQ4NGNjZmM5YTFkMmMxNjk3ID0gTC5wb3B1cCh7bWF4V2lkdGg6ICczMDAnfSk7CgogICAgICAgICAgICAKICAgICAgICAgICAgICAgIHZhciBodG1sXzJhY2QzZjk1OGE3YzRjZWNhZDg3Zjk5ZTE3N2UyNzE2ID0gJCgnPGRpdiBpZD0iaHRtbF8yYWNkM2Y5NThhN2M0Y2VjYWQ4N2Y5OWUxNzdlMjcxNiIgc3R5bGU9IndpZHRoOiAxMDAuMCU7IGhlaWdodDogMTAwLjAlOyI+QnVzaW5lc3MgcmVwbHkgbWFpbCBQcm9jZXNzaW5nIENlbnRyRSBDbHVzdGVyIDA8L2Rpdj4nKVswXTsKICAgICAgICAgICAgICAgIHBvcHVwXzRjNzQ3YjE2NmExYzQ2OTQ4NGNjZmM5YTFkMmMxNjk3LnNldENvbnRlbnQoaHRtbF8yYWNkM2Y5NThhN2M0Y2VjYWQ4N2Y5OWUxNzdlMjcxNik7CiAgICAgICAgICAgIAoKICAgICAgICAgICAgY2lyY2xlX21hcmtlcl8xYzJjNDQ0ZmEwY2E0YjAxYjA3ZjY0MjhhNjgyNDhhZi5iaW5kUG9wdXAocG9wdXBfNGM3NDdiMTY2YTFjNDY5NDg0Y2NmYzlhMWQyYzE2OTcpOwoKICAgICAgICAgICAgCiAgICAgICAgCjwvc2NyaXB0Pg== onload=\"this.contentDocument.open();this.contentDocument.write(atob(this.getAttribute('data-html')));this.contentDocument.close();\" allowfullscreen webkitallowfullscreen mozallowfullscreen></iframe></div></div>"
      ],
      "text/plain": [
       "<folium.folium.Map at 0x7f1e11f1f950>"
      ]
     },
     "execution_count": 106,
     "metadata": {},
     "output_type": "execute_result"
    }
   ],
   "source": [
    "# create map\n",
    "map_clusters = folium.Map(zoom_start=11)\n",
    "\n",
    "# set color scheme for the clusters\n",
    "x = np.arange(kclusters)\n",
    "ys = [i+x+(i*x)**2 for i in range(kclusters)]\n",
    "colors_array = cm.rainbow(np.linspace(0, 1, len(ys)))\n",
    "rainbow = [colors.rgb2hex(i) for i in colors_array]\n",
    "\n",
    "# add markers to the map\n",
    "markers_colors = []\n",
    "for lat, lon, poi, cluster in zip(df_toronto_merged['Latitude'], df_toronto_merged['Longitude'], df_toronto_merged['Neighborhood'], df_toronto_merged['Cluster Labels']):\n",
    "    label = folium.Popup(str(poi) + ' Cluster ' + str(cluster), parse_html=True)\n",
    "    folium.CircleMarker(\n",
    "        [lat, lon],\n",
    "        radius=5,\n",
    "        popup=label,\n",
    "        color=rainbow[cluster-1],\n",
    "        fill=True,\n",
    "        fill_color=rainbow[cluster-1],\n",
    "        fill_opacity=0.7).add_to(map_clusters)\n",
    "    \n",
    "map_clusters"
   ]
  },
  {
   "cell_type": "code",
   "execution_count": null,
   "metadata": {},
   "outputs": [],
   "source": []
  }
 ],
 "metadata": {
  "kernelspec": {
   "display_name": "Python 3",
   "language": "python",
   "name": "python3"
  },
  "language_info": {
   "codemirror_mode": {
    "name": "ipython",
    "version": 3
   },
   "file_extension": ".py",
   "mimetype": "text/x-python",
   "name": "python",
   "nbconvert_exporter": "python",
   "pygments_lexer": "ipython3",
   "version": "3.7.5"
  }
 },
 "nbformat": 4,
 "nbformat_minor": 4
}
