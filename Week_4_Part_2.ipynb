{
 "cells": [
  {
   "cell_type": "markdown",
   "metadata": {},
   "source": [
    "# Data Used in Data Science Capstone Project"
   ]
  },
  {
   "cell_type": "markdown",
   "metadata": {},
   "source": [
    "Data is gathered from two source:\n",
    "1. Wikipedia \n",
    "3. Geospatial Python Libray\n",
    "2. Foursquare\n",
    "\n",
    "From the first source we are going to obtain \"Neighborhood\" & \"PostalCode\" the table carrying following information of Canada aginst each Borough.\n",
    "After extract the html page we clean the data by writing code that specifically extracts\n",
    "the mentioned information above and discars rest all. For further preprocessing removes \n",
    "Borough that doesn't has either Neighborhood or PostalCode.\n",
    "\n",
    "\n",
    "From the second source we obtain Latitude and Longitude against each Borough. We did this by downloading the Geospatial Coordinates csv file and searching latitude and longitutde and if the Borough doesn't exist in the csv file we discard that Borough from our data. After this process we only select \"Scarborough\" Borough data and removes every other Borough from our list.\n",
    "\n",
    "The third source of data is used to obtain the following against each Neighborhood:\n",
    "\"Neighborhood\", \"Neighborhood Latitude\", \"Neighborhood Longitude\", \"Venue\", \"Venue Category\", \"Venue Latitude\", \"Venue Longitude\". Certainly data was not like a piece of cake. It was parsed and cleaned to obtain the required information. As a result we create a final dataframe with column/features obtained through this source. \n"
   ]
  },
  {
   "cell_type": "code",
   "execution_count": null,
   "metadata": {},
   "outputs": [],
   "source": []
  }
 ],
 "metadata": {
  "kernelspec": {
   "display_name": "Python 3",
   "language": "python",
   "name": "python3"
  },
  "language_info": {
   "codemirror_mode": {
    "name": "ipython",
    "version": 3
   },
   "file_extension": ".py",
   "mimetype": "text/x-python",
   "name": "python",
   "nbconvert_exporter": "python",
   "pygments_lexer": "ipython3",
   "version": "3.7.5"
  }
 },
 "nbformat": 4,
 "nbformat_minor": 4
}
