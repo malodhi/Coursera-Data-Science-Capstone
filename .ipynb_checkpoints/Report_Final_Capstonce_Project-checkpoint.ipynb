{
 "cells": [
  {
   "cell_type": "markdown",
   "metadata": {},
   "source": [
    "# Report - Data Science Capstone Project !"
   ]
  },
  {
   "cell_type": "markdown",
   "metadata": {},
   "source": [
    "### Problem Statement"
   ]
  },
  {
   "cell_type": "markdown",
   "metadata": {},
   "source": [
    "A person wants to open a Bar in Scarborough, Canada. As a business man he wants quick and large and quick investment returns. Today business are far more prone to change, collapse and as well as success. Its crucial for every business to excel, or even to sustain, to make critical business decision. Previouly the deicisions were based solely on individual experience and cognitive thinking. With increase globalization and capitalizm all over the world, the markets have become very competitive and saturated in every aspect of business. Thus, due to exponential rise in factors affecting business and business strategies, it has become hard for invester to rely on individual thinking. Further, due to rapidly changing world and unforseen market trends its all most impossible to plan for at least an year. In our case the invester is confused on where to open his bar and start business. Being a stranger in a metropolitan and populous area he can't figure out the best suitable place for his bar. As a result we will use a machine learning technique to help find him best suitable place for his new bar shop in Scarborough, Canada.\n"
   ]
  },
  {
   "cell_type": "markdown",
   "metadata": {},
   "source": [
    "### Stake Holders & Audiance"
   ]
  },
  {
   "cell_type": "markdown",
   "metadata": {},
   "source": [
    "Main Stake holders in this business project is the invester himself. Other then invester all the people: managers, project designers, employees and construction company is working as a stake holder in this project. Because in case of any collapse all the people in the business are going to suffer and as a result lose their jobs. Audiance in this project include the public who are going to come in bar for meeting, discussion and social gatherings. This bar may be first for a couple to meet. Best spot for fiends to interact and share their feelings and thought. A place where people can forget all their daily problems and relax for a while. Thus, to benefit most of the people in society the bar must be at location where people do like to go out and enjoy.\n"
   ]
  },
  {
   "cell_type": "markdown",
   "metadata": {},
   "source": [
    "### Data"
   ]
  },
  {
   "cell_type": "markdown",
   "metadata": {},
   "source": [
    "Data is gathered from two source:\n",
    "\n",
    "    Wikipedia\n",
    "    Geospatial Python Libray\n",
    "    Foursquare\n",
    "\n",
    "From the first source we are going to obtain \"Neighborhood\" & \"PostalCode\" the table carrying following information of Canada aginst each Borough. After extract the html page we clean the data by writing code that specifically extracts the mentioned information above and discars rest all. For further preprocessing removes Borough that doesn't has either Neighborhood or PostalCode.\n",
    "\n",
    "From the second source we obtain Latitude and Longitude against each Borough. We did this by downloading the Geospatial Coordinates csv file and searching latitude and longitutde and if the Borough doesn't exist in the csv file we discard that Borough from our data. After this process we only select \"Scarborough\" Borough data and removes every other Borough from our list.\n",
    "\n",
    "The third source of data is used to obtain the following against each Neighborhood: \"Neighborhood\", \"Neighborhood Latitude\", \"Neighborhood Longitude\", \"Venue\", \"Venue Category\", \"Venue Latitude\", \"Venue Longitude\". Certainly data was not like a piece of cake. It was parsed and cleaned to obtain the required information. As a result we create a final dataframe with column/features obtained through this source.\n"
   ]
  },
  {
   "cell_type": "markdown",
   "metadata": {},
   "source": [
    "### Methodology"
   ]
  },
  {
   "cell_type": "markdown",
   "metadata": {},
   "source": [
    "After getting a dataframe with following columns:\n",
    "Neighborhood, \tNeighborhood Latitude, \tNeighborhood Longitude, \tVenue, \tVenue Category, \tVenue Latitude, \tVenue Longitude\n",
    "we are going to do some featured extraction. We ignored all Venue Categories other then ['Neighborhood', 'Bar', 'Beer Store',  'Bubble Tea Shop', 'Café', 'Coffee Shop',  'Hookah Bar',  'Juice Bar',  'Pub',  'Sports Bar']\n",
    "This gives us 10 feature. Narrowing down the number of features from 116 to 10.\n",
    "Through this we would be able to make decision on the basis of relevant information and ignore irrelevent information which could our final results.\n",
    "\n",
    "We are now done with data preprocessing so lets move on to machine learning part.\n",
    "That would be done in following parts:\n",
    "\n",
    "1. One-Hot Encoding (based on \"Venue Category\")\n",
    "2. Group-by Neighborhood and Normalize\n",
    "3. Fit the data in KMeans clustering object\n",
    "4. Extract labels for each Neighborhood\n",
    "5. Append Labels in each Datafrom and joing it with original\n",
    "6. Map the clusters using Folium."
   ]
  },
  {
   "cell_type": "markdown",
   "metadata": {},
   "source": [
    "### Results"
   ]
  },
  {
   "cell_type": "markdown",
   "metadata": {},
   "source": [
    "We kept number of clusters 3 in the project. As a result we got 3 different cluster represented in folium map in report. Red Color represented the cluster with highest number of bars. The second most populated cluster is circled with sea-blue markers. The Last and the least populated cluster is one with only one bar marked as purple. Graph is the best way to represent and analyse the result. Thus 60 percent examples go into label '0', 30 percent examples go into label '1' and 10 percent examples go into label '2'."
   ]
  },
  {
   "cell_type": "markdown",
   "metadata": {},
   "source": [
    "### Conclusion"
   ]
  },
  {
   "cell_type": "markdown",
   "metadata": {},
   "source": [
    "It can be observed that most of the bars are open around central Scarborough and second greatest cluster is north of Scarborough. Thus it can be inferred from the map and clusters that openning a bar at the outskirts of Scarborough, Rouge Hill , Port Union , Highland Creek,(Cluster # 1) will lead to less competition and greater chances of success"
   ]
  },
  {
   "cell_type": "code",
   "execution_count": null,
   "metadata": {},
   "outputs": [],
   "source": []
  }
 ],
 "metadata": {
  "kernelspec": {
   "display_name": "Python 3",
   "language": "python",
   "name": "python3"
  },
  "language_info": {
   "codemirror_mode": {
    "name": "ipython",
    "version": 3
   },
   "file_extension": ".py",
   "mimetype": "text/x-python",
   "name": "python",
   "nbconvert_exporter": "python",
   "pygments_lexer": "ipython3",
   "version": "3.7.5"
  }
 },
 "nbformat": 4,
 "nbformat_minor": 4
}
