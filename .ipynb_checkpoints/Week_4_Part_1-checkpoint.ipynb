{
 "cells": [
  {
   "cell_type": "markdown",
   "metadata": {},
   "source": [
    "# Applied Data Science Capstone Project !"
   ]
  },
  {
   "cell_type": "markdown",
   "metadata": {},
   "source": [
    "### Problem Statement"
   ]
  },
  {
   "cell_type": "markdown",
   "metadata": {},
   "source": [
    "A person wants to open a Bar in Scarborough, Canada. As a business man he wants quick and \n",
    "large and quick investment returns. Today business are far more prone to change, collapse \n",
    "and as well as success. Its crucial for every business to excel, or even to sustain, to\n",
    "make critical business decision. Previouly the deicisions were based solely on individual \n",
    "experience and cognitive thinking. With increase globalization and capitalizm all over the\n",
    "world, the markets have become very competitive and saturated in every aspect of business.\n",
    "Thus, due to exponential rise in factors affecting business and business strategies, it\n",
    "has become hard for invester to rely on individual thinking. Further, due to rapidly \n",
    "changing world and unforseen market trends its all most impossible to plan for at least an\n",
    "year.\n",
    "In our case the invester is confused on where to open his bar and start business. Being \n",
    "a stranger in a metropolitan and populous area he can't figure out the best suitable place\n",
    "for his bar. As a result we will use a machine learning technique to help find him best suitable place for his new bar shop in Scarborough, Canada."
   ]
  },
  {
   "cell_type": "markdown",
   "metadata": {},
   "source": [
    "### Stake Holders & Audiance"
   ]
  },
  {
   "cell_type": "markdown",
   "metadata": {},
   "source": [
    " Main Stake holders in this business project is the invester himself. Other then invester all the people: managers, project designers, employees and construction company is working as a stake holder in this project. Because in case of any collapse all the people in the business are going to suffer and as a result lose their jobs.\n",
    "Audiance in this project include the public who are going to come in bar for meeting,\n",
    "discussion and social gatherings. This bar may be first for a couple to meet. Best spot for fiends to interact and share their feelings and thought. A place where people can forget all their daily problems and relax for a while. Thus, to benefit most of the people in society the bar must be at location where people do like to go out and enjoy."
   ]
  },
  {
   "cell_type": "code",
   "execution_count": null,
   "metadata": {},
   "outputs": [],
   "source": []
  }
 ],
 "metadata": {
  "kernelspec": {
   "display_name": "Python 3",
   "language": "python",
   "name": "python3"
  },
  "language_info": {
   "codemirror_mode": {
    "name": "ipython",
    "version": 3
   },
   "file_extension": ".py",
   "mimetype": "text/x-python",
   "name": "python",
   "nbconvert_exporter": "python",
   "pygments_lexer": "ipython3",
   "version": "3.7.5"
  }
 },
 "nbformat": 4,
 "nbformat_minor": 4
}
